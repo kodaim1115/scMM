{
 "cells": [
  {
   "cell_type": "markdown",
   "metadata": {
    "colab_type": "text",
    "id": "h5fb8cMdia9H"
   },
   "source": [
    "3.1 MLPの構築と学習"
   ]
  },
  {
   "cell_type": "markdown",
   "metadata": {
    "colab_type": "text",
    "id": "2LzS3Yu1xz5K"
   },
   "source": []
  },
  {
   "cell_type": "code",
   "execution_count": 0,
   "metadata": {
    "colab": {},
    "colab_type": "code",
    "id": "vz4mimW-s3VW"
   },
   "outputs": [],
   "source": [
    "import torch\n",
    "from torch import nn\n",
    "\n",
    "net = nn.Sequential(\n",
    " nn.Linear(64, 32), #torch.nn.Linear(in_features, out_features, bias=True)\n",
    " nn.ReLU(), #max(0,x)\n",
    " nn.Linear(32, 16),\n",
    " nn.ReLU(),\n",
    " nn.Linear(16, 10)\n",
    ")"
   ]
  },
  {
   "cell_type": "code",
   "execution_count": 0,
   "metadata": {
    "colab": {},
    "colab_type": "code",
    "id": "naWxHhRtg6lc"
   },
   "outputs": [],
   "source": [
    "from torch import optim\n",
    "from sklearn.datasets import load_digits\n",
    "digits = load_digits()\n",
    "\n",
    "X = digits.data\n",
    "Y = digits.target\n",
    "\n",
    "# NumPyのndarrayをPyTorchのTensorに変換\n",
    "X = torch.tensor(X, dtype=torch.float32)\n",
    "Y = torch.tensor(Y, dtype=torch.int64)\n",
    "\n",
    "# ソフトマックスクロスエントロピー\n",
    "loss_fn = nn.CrossEntropyLoss() #(p, q)\n",
    "\n",
    "# Adam\n",
    "optimizer = optim.Adam(net.parameters())\n",
    "#torch.optim.Adam(params, lr=0.001, betas=(0.9, 0.999), eps=1e-08, weight_decay=0, amsgrad=False)\n",
    "\n",
    "# 損失関数のログ\n",
    "losses = []\n",
    "\n",
    "# 100回イテレーションを回す\n",
    "for epoc in range(500):\n",
    " # 前回のbackwardメソッドで\n",
    " # 計算された勾配の値を削除\n",
    " optimizer.zero_grad()\n",
    "\n",
    " # 線形モデルでyの予測値を計算\n",
    " y_pred = net(X)\n",
    "\n",
    " # MSE lossとwによる微分を計算\n",
    " loss = loss_fn(y_pred, Y)\n",
    " loss.backward()\n",
    "\n",
    " # 勾配を更新する\n",
    " optimizer.step()\n",
    "\n",
    " # 収束確認のためにlossを記録しておく\n",
    " losses.append(loss.item())"
   ]
  },
  {
   "cell_type": "markdown",
   "metadata": {
    "colab_type": "text",
    "id": "5K8Y4p9HiCHX"
   },
   "source": [
    "(CrossEntoropyLoss\n",
    "https://qiita.com/kenta1984/items/59a9ef1788e6934fd962)"
   ]
  },
  {
   "cell_type": "code",
   "execution_count": 0,
   "metadata": {
    "colab": {},
    "colab_type": "code",
    "id": "g_j7ZbXrhJND"
   },
   "outputs": [],
   "source": [
    "X = X.to(\"cuda:0\")\n",
    "Y = Y.to(\"cuda:0\")\n",
    "net.to(\"cuda:0\")\n",
    "\n",
    "# 以下同様にoptimizerをセットし学習ループを回す\n",
    "# Adam\n",
    "optimizer = optim.Adam(net.parameters())\n",
    "#torch.optim.Adam(params, lr=0.001, betas=(0.9, 0.999), eps=1e-08, weight_decay=0, amsgrad=False)\n",
    "\n",
    "# 損失関数のログ\n",
    "losses = []\n",
    "\n",
    "# 100回イテレーションを回す\n",
    "for epoc in range(500):\n",
    " # 前回のbackwardメソッドで\n",
    " # 計算された勾配の値を削除\n",
    " optimizer.zero_grad()\n",
    "\n",
    " # 線形モデルでyの予測値を計算\n",
    " y_pred = net(X)\n",
    "\n",
    " # MSE lossとwによる微分を計算\n",
    " loss = loss_fn(y_pred, Y)\n",
    " loss.backward()\n",
    "\n",
    " # 勾配を更新する\n",
    " optimizer.step()\n",
    "\n",
    " # 収束確認のためにlossを記録しておく\n",
    " losses.append(loss.item())"
   ]
  },
  {
   "cell_type": "markdown",
   "metadata": {
    "colab_type": "text",
    "id": "p48-6D23iucs"
   },
   "source": [
    "3.2 DatasetとDataLoader"
   ]
  },
  {
   "cell_type": "code",
   "execution_count": 29,
   "metadata": {
    "colab": {
     "base_uri": "https://localhost:8080/",
     "height": 193
    },
    "colab_type": "code",
    "id": "ky7h6ZYMhVOL",
    "outputId": "36257e18-0ba1-417b-b764-b78062b09eef"
   },
   "outputs": [
    {
     "data": {
      "text/plain": [
       "[63.81131339073181,\n",
       " 46.43308091163635,\n",
       " 27.24364399909973,\n",
       " 15.465656995773315,\n",
       " 10.648400694131851,\n",
       " 7.684108320623636,\n",
       " 6.34812468290329,\n",
       " 5.461297683417797,\n",
       " 4.770881369709969,\n",
       " 4.203748427331448]"
      ]
     },
     "execution_count": 29,
     "metadata": {
      "tags": []
     },
     "output_type": "execute_result"
    }
   ],
   "source": [
    "from torch.utils.data import TensorDataset, DataLoader\n",
    "# Datasetを作成\n",
    "ds = TensorDataset(X, Y)\n",
    "# 異なる順番で64個ずつデータを返すDataLoaderを作成\n",
    "loader = DataLoader(ds, batch_size=64, shuffle=True)\n",
    "net = nn.Sequential(\n",
    " nn.Linear(64, 32),\n",
    " nn.ReLU(),\n",
    " nn.Linear(32, 16),\n",
    " nn.ReLU(),\n",
    " nn.Linear(16, 10)\n",
    ")\n",
    "\n",
    "loss_fn = nn.CrossEntropyLoss()\n",
    "optimizer = optim.Adam(net.parameters())\n",
    "\n",
    "# 最適化を実行\n",
    "losses = []\n",
    "for epoch in range(10):\n",
    " running_loss = 0.0\n",
    " for xx, yy in loader:\n",
    "  # xx, yyは64個分のみ受け取れる\n",
    "  y_pred = net(xx)\n",
    "  loss = loss_fn(y_pred, yy)\n",
    "  optimizer.zero_grad()\n",
    "  loss.backward()\n",
    "  optimizer.step()\n",
    "  running_loss += loss.item()\n",
    " losses.append(running_loss)"
   ]
  },
  {
   "cell_type": "markdown",
   "metadata": {
    "colab_type": "text",
    "id": "7qffudGD10CM"
   },
   "source": [
    "3.3 学習効率化のTips"
   ]
  },
  {
   "cell_type": "markdown",
   "metadata": {
    "colab_type": "text",
    "id": "_Na3mg-F20oh"
   },
   "source": [
    "Dropoutによる正則化"
   ]
  },
  {
   "cell_type": "code",
   "execution_count": 0,
   "metadata": {
    "colab": {},
    "colab_type": "code",
    "id": "MfiWK5CkhcnA"
   },
   "outputs": [],
   "source": [
    "# データを訓練用と検証用に分割\n",
    "from sklearn.model_selection import train_test_split\n",
    "# 全体の30%は検証用\n",
    "X = digits.data\n",
    "Y = digits.target\n",
    "X_train, X_test, Y_train, Y_test = train_test_split(X, Y, test_size=0.3)\n",
    "\n",
    "X_train = torch.tensor(X_train, dtype=torch.float32)\n",
    "Y_train = torch.tensor(Y_train, dtype=torch.int64)\n",
    "X_test = torch.tensor(X_test, dtype=torch.float32)\n",
    "Y_test = torch.tensor(Y_test, dtype=torch.int64)\n",
    "# 層を積み重ねて深いニューラルネットワークを構築する\n",
    "k = 100\n",
    "net = nn.Sequential(\n",
    " nn.Linear(64, k),\n",
    " nn.ReLU(),\n",
    " nn.Linear(k, k),\n",
    " nn.ReLU(),\n",
    " nn.Linear(k, k),\n",
    " nn.ReLU(),\n",
    " nn.Linear(k, k),\n",
    " nn.ReLU(),\n",
    " nn.Linear(k, 10)\n",
    ")\n",
    "\n",
    "loss_fn = nn.CrossEntropyLoss()\n",
    "optimizer = optim.Adam(net.parameters())\n",
    "# 訓練用データでDataLoaderを作成\n",
    "ds = TensorDataset(X_train, Y_train)\n",
    "loader = DataLoader(ds, batch_size=32, shuffle=True)"
   ]
  },
  {
   "cell_type": "code",
   "execution_count": 45,
   "metadata": {
    "colab": {
     "base_uri": "https://localhost:8080/",
     "height": 282
    },
    "colab_type": "code",
    "id": "vHBXVQOMhpVP",
    "outputId": "f784a812-25ac-4b75-f55c-e105cb3bf5c5"
   },
   "outputs": [
    {
     "data": {
      "text/plain": [
       "<matplotlib.legend.Legend at 0x7f70e003eac8>"
      ]
     },
     "execution_count": 45,
     "metadata": {
      "tags": []
     },
     "output_type": "execute_result"
    },
    {
     "data": {
      "image/png": "[encoded data removed]",
      "text/plain": [
       "<Figure size 432x288 with 1 Axes>"
      ]
     },
     "metadata": {
      "needs_background": "light",
      "tags": []
     },
     "output_type": "display_data"
    }
   ],
   "source": [
    "train_losses = []\n",
    "test_losses = []\n",
    "for epoch in range(100):\n",
    " running_loss = 0.0\n",
    " for i, (xx, yy) in enumerate(loader):\n",
    "  y_pred = net(xx)\n",
    "  loss = loss_fn(y_pred, yy)\n",
    "  optimizer.zero_grad()\n",
    "  loss.backward()\n",
    "  optimizer.step()\n",
    "  running_loss += loss.item()\n",
    " train_losses.append(running_loss / i)\n",
    " y_pred = net(X_test)\n",
    " test_loss = loss_fn(y_pred, Y_test)\n",
    " test_losses.append(test_loss.item())\n",
    "\n",
    "import matplotlib.pyplot as plt\n",
    "plt.ylim(0.00, 1.50)\n",
    "plt.plot(train_losses, label=\"train\")\n",
    "plt.plot(test_losses, label=\"test\")\n",
    "plt.legend()"
   ]
  },
  {
   "cell_type": "code",
   "execution_count": 0,
   "metadata": {
    "colab": {},
    "colab_type": "code",
    "id": "LNiEaWiUhzGh"
   },
   "outputs": [],
   "source": [
    "# 確率0.5でランダムに変数の次元を\n",
    "# 捨てるDropoutを各層に追加\n",
    "net = nn.Sequential(\n",
    " nn.Linear(64, k),\n",
    " nn.ReLU(),\n",
    " nn.Dropout(0.5), #torch.nn.Dropout(p=0.5, inplace=False)\n",
    " nn.Linear(k, k),\n",
    " nn.ReLU(),\n",
    " nn.Dropout(0.5),\n",
    " nn.Linear(k, k),\n",
    " nn.ReLU(),\n",
    " nn.Dropout(0.5),\n",
    " nn.Linear(k, k),\n",
    " nn.ReLU(),\n",
    " nn.Dropout(0.5),\n",
    " nn.Linear(k, 10)\n",
    ")"
   ]
  },
  {
   "cell_type": "code",
   "execution_count": 50,
   "metadata": {
    "colab": {
     "base_uri": "https://localhost:8080/",
     "height": 87
    },
    "colab_type": "code",
    "id": "iF7VBZzVOTT3",
    "outputId": "83cb55ea-3303-4782-e890-10f2d281e933"
   },
   "outputs": [
    {
     "name": "stdout",
     "output_type": "stream",
     "text": [
      "tensor([1., 2., 3., 4., 5.])\n",
      "tensor([ 2.,  4.,  0.,  0., 10.])\n",
      "tensor([1., 2., 3., 4., 5.])\n",
      "tensor([ 2.,  4.,  0.,  8., 10.])\n"
     ]
    }
   ],
   "source": [
    "inp = torch.tensor([1.0, 2.0, 3, 4, 5])\n",
    "\n",
    "outplace_dropout = nn.Dropout(p=0.5)\n",
    "print(inp)\n",
    "output = outplace_dropout(inp)\n",
    "print(output)\n",
    "print(inp) # Notice that the input doesn't get changed here\n",
    "\n",
    "\n",
    "inplace_droput = nn.Dropout(p=0.5, inplace=True)\n",
    "inplace_droput(inp)\n",
    "print(inp) # Notice that the input is changed no"
   ]
  },
  {
   "cell_type": "code",
   "execution_count": 0,
   "metadata": {
    "colab": {},
    "colab_type": "code",
    "id": "-THzQCW0h4kk"
   },
   "outputs": [],
   "source": [
    "optimizer = optim.Adam(net.parameters())\n",
    "\n",
    "train_losses = []\n",
    "test_losses = []\n",
    "for epoch in range(100):\n",
    " running_loss = 0.0\n",
    " # ネットワークを訓練モードにする\n",
    " net.train()\n",
    " for i, (xx, yy) in enumerate(loader):\n",
    "  y_pred = net(xx)\n",
    "  loss = loss_fn(y_pred, yy)\n",
    "  optimizer.zero_grad()\n",
    "  loss.backward()\n",
    "  optimizer.step()\n",
    "  running_loss += loss.item()\n",
    " train_losses.append(running_loss / i)\n",
    " # ネットワークを評価モードにして\n",
    " # 検証データの損失関数を計算する\n",
    " net.eval()\n",
    " y_pred = net(X_test)\n",
    " test_loss = loss_fn(y_pred, Y_test)\n",
    " test_losses.append(test_loss.item())"
   ]
  },
  {
   "cell_type": "code",
   "execution_count": 57,
   "metadata": {
    "colab": {
     "base_uri": "https://localhost:8080/",
     "height": 282
    },
    "colab_type": "code",
    "id": "h6lNKBGmTm0m",
    "outputId": "b96e69c8-c11d-4466-829e-8d75aa43c9bd"
   },
   "outputs": [
    {
     "data": {
      "text/plain": [
       "<matplotlib.legend.Legend at 0x7f70cfd2fdd8>"
      ]
     },
     "execution_count": 57,
     "metadata": {
      "tags": []
     },
     "output_type": "execute_result"
    },
    {
     "data": {
      "image/png": "[encoded data removed]",
      "text/plain": [
       "<Figure size 432x288 with 1 Axes>"
      ]
     },
     "metadata": {
      "needs_background": "light",
      "tags": []
     },
     "output_type": "display_data"
    }
   ],
   "source": [
    "plt.ylim(0.00, 1.50)\n",
    "plt.plot(train_losses, label=\"train\")\n",
    "plt.plot(test_losses, label=\"test\")\n",
    "plt.legend()"
   ]
  },
  {
   "cell_type": "markdown",
   "metadata": {
    "colab_type": "text",
    "id": "UqVUpmFpVh1i"
   },
   "source": [
    "Batch Normalizationによる学習の加速"
   ]
  },
  {
   "cell_type": "code",
   "execution_count": 0,
   "metadata": {
    "colab": {},
    "colab_type": "code",
    "id": "RNpJ6lONiKPc"
   },
   "outputs": [],
   "source": [
    "# Linear層にはBatchNorm1dを適用する\n",
    "net = nn.Sequential(\n",
    " nn.Linear(64, k),\n",
    " nn.ReLU(),\n",
    " nn.BatchNorm1d(k),\n",
    " #torch.nn.BatchNorm1d(num_features, eps=1e-05, momentum=0.1, affine=True, track_running_stats=True)\n",
    " nn.Linear(k, k),\n",
    " nn.ReLU(),\n",
    " nn.BatchNorm1d(k),\n",
    " nn.Linear(k, k),\n",
    " nn.ReLU(),\n",
    " nn.BatchNorm1d(k),\n",
    " nn.Linear(k, k),\n",
    " nn.ReLU(),\n",
    " nn.BatchNorm1d(k),\n",
    " nn.Linear(k, 10)\n",
    ")"
   ]
  },
  {
   "cell_type": "markdown",
   "metadata": {
    "colab_type": "text",
    "id": "DocECbORZnCQ"
   },
   "source": [
    "ネットワークのモジュール化"
   ]
  },
  {
   "cell_type": "markdown",
   "metadata": {
    "colab_type": "text",
    "id": "adzqS6ULYvKs"
   },
   "source": []
  },
  {
   "cell_type": "code",
   "execution_count": 0,
   "metadata": {
    "colab": {},
    "colab_type": "code",
    "id": "Jrj-58Ofpyvb"
   },
   "outputs": [],
   "source": [
    "class CustomLinear(nn.Module):\n",
    "  def __init__(self, in_features, out_features, bias=True, p=0.5):\n",
    "    super().__init__() #CustomLinearの__init__メソッド実行\n",
    "    self.linear = nn.Linear(in_features, out_features, bias)\n",
    "    self.relu = nn.ReLU\n",
    "    self.drop = nn.Dropout(p)\n",
    "\n",
    "  def forward(self, x):\n",
    "    x = self.linear(x)\n",
    "    x = self.relu(x)\n",
    "    x = self.drop(x)\n",
    "    return x\n",
    "  \n",
    "mlp = nn.Sequential(\n",
    "   CustomLinear(64, 200),\n",
    "   CustomLinear(200, 200),\n",
    "   CustomLinear(200, 200),\n",
    "   nn.Linear(200, 10)\n",
    ")"
   ]
  },
  {
   "cell_type": "code",
   "execution_count": 0,
   "metadata": {
    "colab": {},
    "colab_type": "code",
    "id": "zCUk8kF4pVdS"
   },
   "outputs": [],
   "source": [
    " class MyMLP(nn.Module):\n",
    "  def __init__(self, in_features,out_features): \n",
    "   super().__init__()\n",
    "   self.ln1 = CustomLinear(in_features, 200)\n",
    "   self.ln2 = CustomLinear(200, 200)\n",
    "   self.ln3 = CustomLinear(200, 200)\n",
    "   self.ln4 = CustomLinear(200, out_features)\n",
    "   \n",
    "  def forward(self, x):\n",
    "   x = self.ln1(x)\n",
    "   x = self.ln2(x)\n",
    "   x = self.ln3(x)\n",
    "   x = self.ln4(x)\n",
    "   return x\n",
    "\n",
    "mlp = MyMLP(64, 10)"
   ]
  }
 ],
 "metadata": {
  "accelerator": "GPU",
  "colab": {
   "name": "3syou",
   "provenance": []
  },
  "kernelspec": {
   "display_name": "Python 3",
   "language": "python",
   "name": "python3"
  },
  "language_info": {
   "codemirror_mode": {
    "name": "ipython",
    "version": 3
   },
   "file_extension": ".py",
   "mimetype": "text/x-python",
   "name": "python",
   "nbconvert_exporter": "python",
   "pygments_lexer": "ipython3",
   "version": "3.7.3"
  }
 },
 "nbformat": 4,
 "nbformat_minor": 1
}
