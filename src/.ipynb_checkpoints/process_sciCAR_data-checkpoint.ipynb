{
 "cells": [
  {
   "cell_type": "code",
   "execution_count": 26,
   "metadata": {},
   "outputs": [],
   "source": [
    "import numpy as np\n",
    "import scipy.sparse\n",
    "import scipy.io\n",
    "import torch\n",
    "\n",
    "from torchnet.dataset import TensorDataset, ResampleDataset\n",
    "from torch.utils.data import Subset\n",
    "\n",
    "import pandas as pd\n",
    "from datasets_dev import RNA_Dataset, ATAC_Dataset, read_mtx"
   ]
  },
  {
   "cell_type": "code",
   "execution_count": 9,
   "metadata": {},
   "outputs": [],
   "source": [
    "path = '../data/sci-CAR/'"
   ]
  },
  {
   "cell_type": "code",
   "execution_count": 10,
   "metadata": {},
   "outputs": [],
   "source": [
    "rna_path = path + 'RNA-seq'\n",
    "atac_path = path + 'ATAC-seq'"
   ]
  },
  {
   "cell_type": "code",
   "execution_count": 21,
   "metadata": {},
   "outputs": [
    {
     "name": "stdout",
     "output_type": "stream",
     "text": [
      "Loading  data ...\n",
      "Original data contains 8837 cells x 4835 peaks\n",
      "Finished loading takes 0.03 min\n"
     ]
    }
   ],
   "source": [
    "r_dataset = RNA_Dataset(rna_path, min_reads=2,min_cells=2)"
   ]
  },
  {
   "cell_type": "code",
   "execution_count": 19,
   "metadata": {},
   "outputs": [
    {
     "name": "stdout",
     "output_type": "stream",
     "text": [
      "Loading  data ...\n",
      "Original data contains 8837 cells x 88058 peaks\n",
      "Finished loading takes 0.05 min\n"
     ]
    }
   ],
   "source": [
    "a_dataset = ATAC_Dataset(atac_path,low=0.001, high=1.0, min_peaks=0, binarize=True)\n",
    "#a_dataset = ATAC_Dataset(atac_path, low_counts=0, min_peaks=200, binarize=False)"
   ]
  },
  {
   "cell_type": "code",
   "execution_count": 24,
   "metadata": {},
   "outputs": [
    {
     "name": "stdout",
     "output_type": "stream",
     "text": [
      "RNA shape is(8837, 4835)\n"
     ]
    }
   ],
   "source": [
    "print(\"RNA shape is \" + str(r_dataset.data.shape))"
   ]
  },
  {
   "cell_type": "code",
   "execution_count": 20,
   "metadata": {},
   "outputs": [
    {
     "data": {
      "text/plain": [
       "(8837, 72479)"
      ]
     },
     "execution_count": 20,
     "metadata": {},
     "output_type": "execute_result"
    }
   ],
   "source": [
    "a_dataset.data.shape"
   ]
  },
  {
   "cell_type": "code",
   "execution_count": null,
   "metadata": {},
   "outputs": [],
   "source": [
    "torch.save(r_dataset, path + 'r_dataset.rar')"
   ]
  },
  {
   "cell_type": "code",
   "execution_count": null,
   "metadata": {},
   "outputs": [],
   "source": [
    "torch.save(a_dataset, path + 'a_dataset_2.rar')"
   ]
  },
  {
   "cell_type": "code",
   "execution_count": 18,
   "metadata": {},
   "outputs": [
    {
     "data": {
      "text/plain": [
       "(8837, 87494)"
      ]
     },
     "execution_count": 18,
     "metadata": {},
     "output_type": "execute_result"
    }
   ],
   "source": [
    "a = torch.load(path + 'a_dataset.rar')\n",
    "a.data.shape"
   ]
  },
  {
   "cell_type": "code",
   "execution_count": null,
   "metadata": {},
   "outputs": [],
   "source": [
    "torch.save(a_dataset,path+'a_dataset_mxabsscale.rar')"
   ]
  },
  {
   "cell_type": "code",
   "execution_count": 6,
   "metadata": {},
   "outputs": [
    {
     "data": {
      "text/plain": [
       "(8837, 87494)"
      ]
     },
     "execution_count": 6,
     "metadata": {},
     "output_type": "execute_result"
    }
   ],
   "source": [
    "a_dataset = torch.load(path+'a_dataset_mxabsscale.rar')\n",
    "a_dataset.data.shape"
   ]
  },
  {
   "cell_type": "code",
   "execution_count": 12,
   "metadata": {},
   "outputs": [],
   "source": [
    "torch.save(a_dataset, path + 'a_dataset_8837x11548.rar')"
   ]
  },
  {
   "cell_type": "code",
   "execution_count": null,
   "metadata": {},
   "outputs": [],
   "source": [
    "import seaborn as sns"
   ]
  },
  {
   "cell_type": "code",
   "execution_count": null,
   "metadata": {},
   "outputs": [],
   "source": [
    "sns.palplot(sns.color_palette(\"Set1\", 24))"
   ]
  },
  {
   "cell_type": "code",
   "execution_count": null,
   "metadata": {},
   "outputs": [],
   "source": [
    "sns.color_palette(\"Set1\", 24)"
   ]
  },
  {
   "cell_type": "code",
   "execution_count": null,
   "metadata": {},
   "outputs": [],
   "source": [
    "a_dataset.data[:,300].todense()[range(1000)]"
   ]
  },
  {
   "cell_type": "code",
   "execution_count": null,
   "metadata": {},
   "outputs": [],
   "source": [
    "total_cells = a_dataset.data.shape[0]\n",
    "total_cells"
   ]
  },
  {
   "cell_type": "code",
   "execution_count": null,
   "metadata": {},
   "outputs": [],
   "source": [
    "count = np.array((a_dataset.data >0).sum(0)).squeeze()\n",
    "count"
   ]
  },
  {
   "cell_type": "code",
   "execution_count": null,
   "metadata": {},
   "outputs": [],
   "source": [
    "indices = np.where((count > 0.005*total_cells) & (count < 1.0*total_cells))[0]\n",
    "indices"
   ]
  },
  {
   "cell_type": "code",
   "execution_count": null,
   "metadata": {},
   "outputs": [],
   "source": [
    "len(indices)"
   ]
  },
  {
   "cell_type": "code",
   "execution_count": 29,
   "metadata": {},
   "outputs": [],
   "source": [
    "num_cell = r_dataset.data.shape[0]\n",
    "t_size = np.round(num_cell*0.75).astype('int')\n",
    "t_id = np.random.choice(a=num_cell, size=t_size, replace=False)\n",
    "s_id = np.delete(range(num_cell),t_id)\n",
    "\n",
    "train_dataset = [Subset(r_dataset, t_id), Subset(a_dataset, t_id)]\n",
    "test_dataset = [Subset(r_dataset, s_id), Subset(a_dataset, s_id)]"
   ]
  },
  {
   "cell_type": "code",
   "execution_count": 40,
   "metadata": {},
   "outputs": [],
   "source": [
    "from scipy.sparse import csr_matrix\n",
    "\n",
    "train_rna = r_dataset.data[train_dataset[0].indices,:]\n",
    "train_atac = a_dataset.data[train_dataset[1].indices,:]\n",
    "\n",
    "test_rna = r_dataset.data[test_dataset[0].indices,:]\n",
    "test_atac = a_dataset.data[test_dataset[1].indices,:]\n",
    "\n",
    "data = [train_rna.todense(), train_atac.todense()]\n",
    "s_data = [test_rna.todense(), test_atac.todense()]"
   ]
  },
  {
   "cell_type": "code",
   "execution_count": 42,
   "metadata": {},
   "outputs": [
    {
     "data": {
      "text/plain": [
       "(6628, 4835)"
      ]
     },
     "execution_count": 42,
     "metadata": {},
     "output_type": "execute_result"
    }
   ],
   "source": []
  },
  {
   "cell_type": "code",
   "execution_count": null,
   "metadata": {},
   "outputs": [],
   "source": []
  }
 ],
 "metadata": {
  "kernelspec": {
   "display_name": "venv_multimodal",
   "language": "python",
   "name": "venv_multimodal"
  },
  "language_info": {
   "codemirror_mode": {
    "name": "ipython",
    "version": 3
   },
   "file_extension": ".py",
   "mimetype": "text/x-python",
   "name": "python",
   "nbconvert_exporter": "python",
   "pygments_lexer": "ipython3",
   "version": "3.7.3"
  }
 },
 "nbformat": 4,
 "nbformat_minor": 2
}
