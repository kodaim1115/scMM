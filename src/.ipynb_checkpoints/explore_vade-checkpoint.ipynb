{
 "cells": [
  {
   "cell_type": "code",
   "execution_count": 1,
   "metadata": {},
   "outputs": [],
   "source": [
    "#import argparse\n",
    "import datetime\n",
    "import sys\n",
    "import json\n",
    "from collections import defaultdict\n",
    "from pathlib import Path\n",
    "from tempfile import mkdtemp\n",
    "\n",
    "import numpy as np\n",
    "import torch\n",
    "from torch import optim\n",
    "import matplotlib.pyplot as plt\n",
    "import math\n",
    "from sklearn.mixture import GaussianMixture\n",
    "\n",
    "import models\n",
    "import objectives_dev as objectives\n",
    "#from utils import Logger, Timer, save_model, save_vars, unpack_data\n",
    "from utils_dev import Logger, Timer, save_model, save_vars, unpack_data, EarlyStopping"
   ]
  },
  {
   "cell_type": "code",
   "execution_count": 2,
   "metadata": {},
   "outputs": [],
   "source": [
    "#args\n",
    "experiment = 'test'\n",
    "model = 'VADE_rna' #VAE試しに使う\n",
    "obj = 'elbo'\n",
    "K = 10\n",
    "looser = False\n",
    "llik_scaling = 0\n",
    "batch_size = 128\n",
    "epochs = 10\n",
    "n_centroids = 10\n",
    "latent_dim = 8\n",
    "num_hidden_layers = 2\n",
    "hidden_dim =128\n",
    "learn_prior = False\n",
    "logp = False\n",
    "print_freq = 0\n",
    "no_analytics = False\n",
    "seed = 1\n",
    "dataSize = []\n",
    "\n",
    "class params():\n",
    "    \n",
    "    def __init__(self,\n",
    "                 experiment,\n",
    "                 model,\n",
    "                 obj,\n",
    "                 K,\n",
    "                 looser,\n",
    "                 llik_scaling,\n",
    "                 batch_size,\n",
    "                 epochs,\n",
    "                 n_centroids,\n",
    "                 latent_dim,\n",
    "                 num_hidden_layers,\n",
    "                 hidden_dim,\n",
    "                 learn_prior,\n",
    "                 logp,\n",
    "                 print_freq,\n",
    "                 no_analytics,\n",
    "                 seed,\n",
    "                dataSize):\n",
    "        \n",
    "        self.experiment = experiment\n",
    "        self.model = model\n",
    "        self.obj = obj\n",
    "        self.K = K\n",
    "        self.looser = looser\n",
    "        self.llik_scaling = llik_scaling\n",
    "        self.batch_size = batch_size\n",
    "        self.epochs = epochs\n",
    "        self.n_centroids = n_centroids\n",
    "        self.latent_dim = latent_dim\n",
    "        self.num_hidden_layers = num_hidden_layers\n",
    "        self.hidden_dim = hidden_dim\n",
    "        self.learn_prior = learn_prior\n",
    "        self.logp = logp\n",
    "        self.print_freq = print_freq\n",
    "        self.no_analytics = no_analytics\n",
    "        self.seed = seed\n",
    "        self.dataSize = dataSize\n",
    "        \n",
    "args = params(experiment,\n",
    "                model,\n",
    "                 obj,\n",
    "                 K,\n",
    "                 looser,\n",
    "                 llik_scaling,\n",
    "                 batch_size,\n",
    "                 epochs,\n",
    "                 n_centroids,\n",
    "                 latent_dim,\n",
    "                 num_hidden_layers,\n",
    "                 hidden_dim,\n",
    "                 learn_prior,\n",
    "                 logp,\n",
    "                 print_freq,\n",
    "                 no_analytics,\n",
    "                 seed,\n",
    "                 dataSize)"
   ]
  },
  {
   "cell_type": "code",
   "execution_count": 3,
   "metadata": {},
   "outputs": [],
   "source": [
    "# random seed\n",
    "# https://pytorch.org/docs/stable/notes/randomness.html\n",
    "torch.backends.cudnn.benchmark = True\n",
    "torch.manual_seed(args.seed)\n",
    "np.random.seed(args.seed)"
   ]
  },
  {
   "cell_type": "code",
   "execution_count": 4,
   "metadata": {},
   "outputs": [],
   "source": [
    "device = torch.device(\"cpu\")"
   ]
  },
  {
   "cell_type": "code",
   "execution_count": 5,
   "metadata": {},
   "outputs": [],
   "source": [
    "# load model\n",
    "modelC = getattr(models, 'VAE_{}'.format(args.model))\n",
    "model = modelC(args).to(device)"
   ]
  },
  {
   "cell_type": "code",
   "execution_count": 6,
   "metadata": {},
   "outputs": [
    {
     "name": "stdout",
     "output_type": "stream",
     "text": [
      "Loading  data ...\n",
      "Original data contains 41036 cells x 29589 peaks\n",
      "Finished loading takes 0.31 min\n"
     ]
    }
   ],
   "source": [
    "train = model.getDataLoaders(batch_size=args.batch_size, device=device) "
   ]
  },
  {
   "cell_type": "code",
   "execution_count": 7,
   "metadata": {},
   "outputs": [],
   "source": [
    "#VAE\n",
    "for i, d in enumerate(train):\n",
    "    if i == 0:\n",
    "        data = d\n",
    "    elif i < 5:\n",
    "        data = torch.cat([data, d], dim=0)"
   ]
  },
  {
   "cell_type": "code",
   "execution_count": null,
   "metadata": {},
   "outputs": [],
   "source": [
    "#data = torch.tensor(train_loader.dataset.data.todense())"
   ]
  },
  {
   "cell_type": "code",
   "execution_count": 8,
   "metadata": {
    "scrolled": true
   },
   "outputs": [
    {
     "name": "stdout",
     "output_type": "stream",
     "text": [
      "torch.Size([1, 640, 8])\n"
     ]
    }
   ],
   "source": [
    "#testing get gamma\n",
    "x = data\n",
    "qz_x, px_z, z = model(x)\n",
    "print(z.size())"
   ]
  },
  {
   "cell_type": "code",
   "execution_count": 9,
   "metadata": {},
   "outputs": [
    {
     "name": "stdout",
     "output_type": "stream",
     "text": [
      "torch.Size([640, 8, 10])\n"
     ]
    }
   ],
   "source": [
    "n_centroids = model.n_centroids\n",
    "N = z.size(1)\n",
    "z = z.squeeze().unsqueeze(2).expand(z.size(1), z.size(2), n_centroids)\n",
    "print(z.size())"
   ]
  },
  {
   "cell_type": "code",
   "execution_count": 10,
   "metadata": {
    "scrolled": true
   },
   "outputs": [
    {
     "name": "stdout",
     "output_type": "stream",
     "text": [
      "torch.Size([640, 10])\n",
      "torch.Size([640, 8, 10])\n",
      "torch.Size([640, 8, 10])\n"
     ]
    }
   ],
   "source": [
    "pi = model.pi.repeat(N,1) # NxK\n",
    "mu_c = model.mu_c.repeat(N,1,1) # NxDxK\n",
    "var_c = model.var_c.repeat(N,1,1) # NxDxK\n",
    "print(pi.shape)\n",
    "print(mu_c.shape)\n",
    "print(var_c.shape)"
   ]
  },
  {
   "cell_type": "code",
   "execution_count": 11,
   "metadata": {},
   "outputs": [
    {
     "name": "stdout",
     "output_type": "stream",
     "text": [
      "torch.Size([640, 10])\n"
     ]
    }
   ],
   "source": [
    "p_c_z = torch.exp(torch.log(pi) - torch.sum(0.5*torch.log(2*math.pi*var_c) + (z-mu_c)**2/(2*var_c), dim=1)) + 1e-10\n",
    "print(p_c_z.size())"
   ]
  },
  {
   "cell_type": "code",
   "execution_count": 12,
   "metadata": {},
   "outputs": [
    {
     "name": "stdout",
     "output_type": "stream",
     "text": [
      "torch.Size([640, 10])\n"
     ]
    }
   ],
   "source": [
    "gamma = p_c_z / torch.sum(p_c_z, dim=1, keepdim=True)\n",
    "print(gamma.size())"
   ]
  },
  {
   "cell_type": "code",
   "execution_count": 13,
   "metadata": {},
   "outputs": [],
   "source": [
    "#testing elbo_vade\n",
    "x = data\n",
    "qz_x, px_z, z = model(x)\n",
    "gamma, mu_c, var_c, pi = model.get_gamma(z)"
   ]
  },
  {
   "cell_type": "code",
   "execution_count": 16,
   "metadata": {},
   "outputs": [],
   "source": [
    "n_centroids = model.n_centroids"
   ]
  },
  {
   "cell_type": "code",
   "execution_count": 19,
   "metadata": {},
   "outputs": [
    {
     "name": "stdout",
     "output_type": "stream",
     "text": [
      "torch.Size([640, 8])\n",
      "torch.Size([640, 8])\n"
     ]
    }
   ],
   "source": [
    "mu, logvar = model._qz_x_params\n",
    "print(mu.size())\n",
    "print(logvar.size())"
   ]
  },
  {
   "cell_type": "code",
   "execution_count": 20,
   "metadata": {},
   "outputs": [
    {
     "name": "stdout",
     "output_type": "stream",
     "text": [
      "torch.Size([640, 8, 10])\n"
     ]
    }
   ],
   "source": [
    "mu_expand = mu.unsqueeze(2).expand(mu.size(0), mu.size(1), n_centroids)\n",
    "print(mu_expand.size())"
   ]
  },
  {
   "cell_type": "code",
   "execution_count": 21,
   "metadata": {},
   "outputs": [
    {
     "name": "stdout",
     "output_type": "stream",
     "text": [
      "torch.Size([640, 8, 10])\n"
     ]
    }
   ],
   "source": [
    "logvar_expand = logvar.unsqueeze(2).expand(logvar.size(0), logvar.size(1), n_centroids)\n",
    "print(logvar_expand.size())"
   ]
  },
  {
   "cell_type": "code",
   "execution_count": 23,
   "metadata": {},
   "outputs": [
    {
     "name": "stdout",
     "output_type": "stream",
     "text": [
      "torch.Size([1, 640, 28767])\n"
     ]
    }
   ],
   "source": [
    "lpx_z = px_z.log_prob(x).view(*px_z.batch_shape[:2], -1) * model.llik_scaling\n",
    "print(lpx_z.size())"
   ]
  },
  {
   "cell_type": "code",
   "execution_count": 24,
   "metadata": {},
   "outputs": [
    {
     "name": "stdout",
     "output_type": "stream",
     "text": [
      "torch.Size([640])\n"
     ]
    }
   ],
   "source": [
    "lpz_c = -0.5*torch.sum(gamma*torch.sum(math.log(2*math.pi) + \\\n",
    "                                           torch.log(var_c) + \\\n",
    "                                           torch.exp(logvar_expand)/var_c + \\\n",
    "                                           (mu_expand-mu_c)**2/var_c, dim=1), dim=1)\n",
    "print(lpz_c.size())"
   ]
  },
  {
   "cell_type": "code",
   "execution_count": 25,
   "metadata": {},
   "outputs": [
    {
     "name": "stdout",
     "output_type": "stream",
     "text": [
      "torch.Size([640])\n"
     ]
    }
   ],
   "source": [
    "lpc = torch.sum(gamma*torch.log(pi), 1)\n",
    "print(lpc.size())"
   ]
  },
  {
   "cell_type": "code",
   "execution_count": 33,
   "metadata": {},
   "outputs": [
    {
     "name": "stdout",
     "output_type": "stream",
     "text": [
      "torch.Size([640])\n"
     ]
    }
   ],
   "source": [
    "lqz_x = qz_x.log_prob(z).sum(-1)\n",
    "lqz_x = lqz_x.squeeze()\n",
    "print(lqz_x.size())"
   ]
  },
  {
   "cell_type": "code",
   "execution_count": 27,
   "metadata": {},
   "outputs": [
    {
     "name": "stdout",
     "output_type": "stream",
     "text": [
      "torch.Size([640])\n"
     ]
    }
   ],
   "source": [
    "lqc_x = torch.sum(gamma*torch.log(gamma), 1)\n",
    "print(lqc_x.size())"
   ]
  },
  {
   "cell_type": "code",
   "execution_count": 37,
   "metadata": {},
   "outputs": [
    {
     "name": "stdout",
     "output_type": "stream",
     "text": [
      "torch.Size([640])\n"
     ]
    }
   ],
   "source": [
    "kld = -lpz_c - lpc + lqz_x + lqc_x\n",
    "print(kld.size())"
   ]
  },
  {
   "cell_type": "code",
   "execution_count": 49,
   "metadata": {},
   "outputs": [
    {
     "name": "stdout",
     "output_type": "stream",
     "text": [
      "tensor(-13063051., grad_fn=<SumBackward0>)\n"
     ]
    }
   ],
   "source": [
    "elbo_vade = (lpx_z.sum(-1).squeeze() - kld).sum()    \n",
    "print(elbo_vade)"
   ]
  },
  {
   "cell_type": "code",
   "execution_count": 48,
   "metadata": {},
   "outputs": [
    {
     "data": {
      "text/plain": [
       "640"
      ]
     },
     "execution_count": 48,
     "metadata": {},
     "output_type": "execute_result"
    }
   ],
   "source": [
    "#testing init_gmm_params\n"
   ]
  },
  {
   "cell_type": "code",
   "execution_count": 55,
   "metadata": {},
   "outputs": [],
   "source": [
    "output = []\n",
    "for i, dataT in enumerate(train):      \n",
    "    qz_x, px_z, zs = model.forward(dataT)\n",
    "    output.append(zs.squeeze().detach().cpu())"
   ]
  },
  {
   "cell_type": "code",
   "execution_count": 53,
   "metadata": {},
   "outputs": [
    {
     "data": {
      "text/plain": [
       "torch.Size([1, 76, 8])"
      ]
     },
     "execution_count": 53,
     "metadata": {},
     "output_type": "execute_result"
    }
   ],
   "source": [
    "zs.size()"
   ]
  },
  {
   "cell_type": "code",
   "execution_count": 58,
   "metadata": {},
   "outputs": [],
   "source": [
    "output = torch.cat(output).numpy()"
   ]
  },
  {
   "cell_type": "code",
   "execution_count": 60,
   "metadata": {},
   "outputs": [
    {
     "data": {
      "text/plain": [
       "(41036, 8)"
      ]
     },
     "execution_count": 60,
     "metadata": {},
     "output_type": "execute_result"
    }
   ],
   "source": [
    "output.shape"
   ]
  },
  {
   "cell_type": "code",
   "execution_count": 64,
   "metadata": {},
   "outputs": [
    {
     "data": {
      "text/plain": [
       "GaussianMixture(covariance_type='diag', init_params='kmeans', max_iter=100,\n",
       "                means_init=None, n_components=10, n_init=1,\n",
       "                precisions_init=None, random_state=None, reg_covar=1e-06,\n",
       "                tol=0.001, verbose=0, verbose_interval=10, warm_start=False,\n",
       "                weights_init=None)"
      ]
     },
     "execution_count": 64,
     "metadata": {},
     "output_type": "execute_result"
    }
   ],
   "source": [
    "gmm = GaussianMixture(n_components=model.n_centroids, covariance_type='diag', init_params='kmeans')\n",
    "gmm.fit(output)"
   ]
  },
  {
   "cell_type": "code",
   "execution_count": 65,
   "metadata": {},
   "outputs": [
    {
     "data": {
      "text/plain": [
       "tensor([[0.9324, 0.6618, 0.9156, 0.9180, 0.9118, 0.7503, 0.9046, 0.8115, 0.9169,\n",
       "         0.7146],\n",
       "        [1.0038, 0.9167, 0.6572, 0.9308, 0.7354, 0.8593, 0.6542, 0.9562, 0.9999,\n",
       "         0.9626],\n",
       "        [0.8126, 0.8742, 0.7277, 1.0393, 0.7861, 1.1777, 0.8885, 0.8360, 0.9810,\n",
       "         0.8784],\n",
       "        [0.7670, 0.8806, 0.7291, 0.5796, 0.7471, 0.8406, 0.7168, 0.7014, 0.5940,\n",
       "         0.7309],\n",
       "        [0.9365, 1.0417, 1.1043, 1.0699, 0.9714, 0.9604, 0.7918, 0.8900, 1.1985,\n",
       "         0.8412],\n",
       "        [0.9255, 0.6160, 0.9282, 0.9064, 0.9831, 0.9313, 0.8205, 0.6632, 0.9369,\n",
       "         0.8230],\n",
       "        [0.8937, 0.9371, 0.9513, 0.9533, 0.7446, 0.8389, 0.7020, 0.8034, 0.8573,\n",
       "         0.8532],\n",
       "        [0.9321, 0.8009, 0.8163, 0.8892, 0.8706, 0.8032, 0.8587, 0.8007, 0.9060,\n",
       "         0.8771]])"
      ]
     },
     "execution_count": 65,
     "metadata": {},
     "output_type": "execute_result"
    }
   ],
   "source": [
    "model.mu_c.data.copy_(torch.from_numpy(gmm.means_.T.astype(np.float32)))\n",
    "model.var_c.data.copy_(torch.from_numpy(gmm.covariances_.T.astype(np.float32)))"
   ]
  },
  {
   "cell_type": "code",
   "execution_count": 70,
   "metadata": {},
   "outputs": [
    {
     "data": {
      "text/plain": [
       "torch.Size([8, 10])"
      ]
     },
     "execution_count": 70,
     "metadata": {},
     "output_type": "execute_result"
    }
   ],
   "source": [
    "model.mu_c.shape"
   ]
  },
  {
   "cell_type": "code",
   "execution_count": 69,
   "metadata": {},
   "outputs": [
    {
     "data": {
      "text/plain": [
       "(10, 8)"
      ]
     },
     "execution_count": 69,
     "metadata": {},
     "output_type": "execute_result"
    }
   ],
   "source": [
    "gmm.means_.shape"
   ]
  },
  {
   "cell_type": "code",
   "execution_count": null,
   "metadata": {},
   "outputs": [],
   "source": [
    "#testing m_elbo_naive_vade\n"
   ]
  }
 ],
 "metadata": {
  "kernelspec": {
   "display_name": "venv_multimodal",
   "language": "python",
   "name": "venv_multimodal"
  },
  "language_info": {
   "codemirror_mode": {
    "name": "ipython",
    "version": 3
   },
   "file_extension": ".py",
   "mimetype": "text/x-python",
   "name": "python",
   "nbconvert_exporter": "python",
   "pygments_lexer": "ipython3",
   "version": "3.7.3"
  }
 },
 "nbformat": 4,
 "nbformat_minor": 2
}
