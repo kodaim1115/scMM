{
 "cells": [
  {
   "cell_type": "code",
   "execution_count": 1,
   "metadata": {},
   "outputs": [],
   "source": [
    "import numpy as np\n",
    "import scipy.sparse\n",
    "import scipy.io\n",
    "\n",
    "import pandas as pd\n",
    "from datasets_dev import RNA_Dataset, ATAC_Dataset"
   ]
  },
  {
   "cell_type": "code",
   "execution_count": 2,
   "metadata": {},
   "outputs": [],
   "source": [
    "path = '../data/Paired-seq/'"
   ]
  },
  {
   "cell_type": "code",
   "execution_count": 9,
   "metadata": {},
   "outputs": [],
   "source": [
    "#RNA\n",
    "fetal_rna = scipy.io.mmread(path+'Fetal_Forebrain/FB_RNA/matrix.mtx')\n",
    "adult_rna = scipy.io.mmread(path+'Adult_Cerebrail_Cortex/Adult_CTX_RNA/matrix.mtx')"
   ]
  },
  {
   "cell_type": "code",
   "execution_count": 10,
   "metadata": {},
   "outputs": [],
   "source": [
    "fetal_gene = pd.read_table(path + 'Fetal_Forebrain/FB_RNA/genes.tsv', header=None)\n",
    "adult_gene = pd.read_table(path + 'Adult_Cerebrail_Cortex/Adult_CTX_RNA/genes.tsv', header=None)"
   ]
  },
  {
   "cell_type": "code",
   "execution_count": 11,
   "metadata": {},
   "outputs": [
    {
     "name": "stdout",
     "output_type": "stream",
     "text": [
      "                        0           1\n",
      "0      ENSMUSG00000000001       Gnai3\n",
      "1      ENSMUSG00000000003        Pbsn\n",
      "2      ENSMUSG00000000028       Cdc45\n",
      "3      ENSMUSG00000000031         H19\n",
      "4      ENSMUSG00000000037       Scml2\n",
      "...                   ...         ...\n",
      "29831  ENSMUSG00000116984  CT030713.2\n",
      "29832  ENSMUSG00000116987  AC150035.3\n",
      "29833  ENSMUSG00000116988  AC164314.2\n",
      "29834  ENSMUSG00000116989  AC131339.4\n",
      "29835  ENSMUSG00000116993  AC135964.2\n",
      "\n",
      "[29836 rows x 2 columns]\n",
      "                        0           1\n",
      "0      ENSMUSG00000000001       Gnai3\n",
      "1      ENSMUSG00000000003        Pbsn\n",
      "2      ENSMUSG00000000028       Cdc45\n",
      "3      ENSMUSG00000000031         H19\n",
      "4      ENSMUSG00000000037       Scml2\n",
      "...                   ...         ...\n",
      "29619  ENSMUSG00000116984  CT030713.2\n",
      "29620  ENSMUSG00000116987  AC150035.3\n",
      "29621  ENSMUSG00000116988  AC164314.2\n",
      "29622  ENSMUSG00000116989  AC131339.4\n",
      "29623  ENSMUSG00000116993  AC135964.2\n",
      "\n",
      "[29624 rows x 2 columns]\n"
     ]
    }
   ],
   "source": [
    "print(fetal_gene)\n",
    "print(adult_gene)"
   ]
  },
  {
   "cell_type": "code",
   "execution_count": 12,
   "metadata": {},
   "outputs": [],
   "source": [
    "fetal_gene = fetal_gene.values[:,0]\n",
    "adult_gene = adult_gene.values[:,0]"
   ]
  },
  {
   "cell_type": "code",
   "execution_count": 14,
   "metadata": {},
   "outputs": [
    {
     "name": "stdout",
     "output_type": "stream",
     "text": [
      "29589\n"
     ]
    }
   ],
   "source": [
    "co = set(fetal_gene) & set (adult_gene)\n",
    "#print(co)\n",
    "print(len(co))"
   ]
  },
  {
   "cell_type": "code",
   "execution_count": 15,
   "metadata": {},
   "outputs": [
    {
     "name": "stdout",
     "output_type": "stream",
     "text": [
      "29589\n"
     ]
    }
   ],
   "source": [
    "f_id = []\n",
    "for i, gene in enumerate(fetal_gene):\n",
    "    if gene in co:\n",
    "        f_id.append(i)\n",
    "print(len(f_id))"
   ]
  },
  {
   "cell_type": "code",
   "execution_count": 16,
   "metadata": {},
   "outputs": [
    {
     "name": "stdout",
     "output_type": "stream",
     "text": [
      "29589\n"
     ]
    }
   ],
   "source": [
    "a_id = []\n",
    "for i, gene in enumerate(adult_gene):\n",
    "    if gene in co:\n",
    "        a_id.append(i)\n",
    "print(len(a_id))"
   ]
  },
  {
   "cell_type": "code",
   "execution_count": 17,
   "metadata": {},
   "outputs": [
    {
     "name": "stdout",
     "output_type": "stream",
     "text": [
      "(29836, 25845)\n",
      "<class 'scipy.sparse.coo.coo_matrix'>\n"
     ]
    }
   ],
   "source": [
    "print(fetal_rna.shape)\n",
    "print(type(fetal_rna))"
   ]
  },
  {
   "cell_type": "code",
   "execution_count": 18,
   "metadata": {
    "scrolled": false
   },
   "outputs": [
    {
     "name": "stdout",
     "output_type": "stream",
     "text": [
      "(29624, 15191)\n",
      "<class 'scipy.sparse.coo.coo_matrix'>\n"
     ]
    }
   ],
   "source": [
    "print(adult_rna.shape)\n",
    "print(type(adult_rna))"
   ]
  },
  {
   "cell_type": "code",
   "execution_count": 19,
   "metadata": {},
   "outputs": [],
   "source": [
    "fetal_rna = fetal_rna.transpose().tocsr()\n",
    "adult_rna = adult_rna.transpose().tocsr()"
   ]
  },
  {
   "cell_type": "code",
   "execution_count": 20,
   "metadata": {},
   "outputs": [
    {
     "name": "stdout",
     "output_type": "stream",
     "text": [
      "(25845, 29836)\n",
      "(15191, 29624)\n"
     ]
    }
   ],
   "source": [
    "print(fetal_rna.shape)\n",
    "print(adult_rna.shape)"
   ]
  },
  {
   "cell_type": "code",
   "execution_count": 21,
   "metadata": {},
   "outputs": [],
   "source": [
    "fetal_rna = fetal_rna[:,f_id]"
   ]
  },
  {
   "cell_type": "code",
   "execution_count": 22,
   "metadata": {},
   "outputs": [],
   "source": [
    "adult_rna = adult_rna[:,a_id]"
   ]
  },
  {
   "cell_type": "code",
   "execution_count": 23,
   "metadata": {},
   "outputs": [],
   "source": [
    "#adult_rna = np.hstack([adult_rna, zero])"
   ]
  },
  {
   "cell_type": "code",
   "execution_count": 24,
   "metadata": {
    "scrolled": true
   },
   "outputs": [
    {
     "name": "stdout",
     "output_type": "stream",
     "text": [
      "(25845, 29589)\n",
      "(15191, 29589)\n"
     ]
    }
   ],
   "source": [
    "print(fetal_rna.shape)\n",
    "print(adult_rna.shape)"
   ]
  },
  {
   "cell_type": "code",
   "execution_count": 27,
   "metadata": {},
   "outputs": [],
   "source": [
    "scipy.io.mmwrite(path + '/processed_fetal/RNA-seq/matrix.mtx', fetal_rna.transpose().astype('int'))\n",
    "scipy.io.mmwrite(path + '/processed_adult/RNA-seq/matrix.mtx', adult_rna.transpose().astype('int'))"
   ]
  },
  {
   "cell_type": "code",
   "execution_count": 25,
   "metadata": {},
   "outputs": [],
   "source": [
    "rna = scipy.sparse.vstack([fetal_rna, adult_rna]).transpose().astype('int')"
   ]
  },
  {
   "cell_type": "code",
   "execution_count": 26,
   "metadata": {},
   "outputs": [
    {
     "data": {
      "text/plain": [
       "(29589, 41036)"
      ]
     },
     "execution_count": 26,
     "metadata": {},
     "output_type": "execute_result"
    }
   ],
   "source": [
    "rna.shape"
   ]
  },
  {
   "cell_type": "code",
   "execution_count": null,
   "metadata": {},
   "outputs": [],
   "source": [
    "savepath = path + 'combined/RNA-seq'"
   ]
  },
  {
   "cell_type": "code",
   "execution_count": null,
   "metadata": {},
   "outputs": [],
   "source": [
    "scipy.io.mmwrite(savepath + '/matrix.mtx', rna)"
   ]
  },
  {
   "cell_type": "code",
   "execution_count": null,
   "metadata": {},
   "outputs": [],
   "source": [
    "#save genes\n",
    "gene =  pd.read_table(path + 'Fetal_Forebrain/FB_RNA/genes.tsv', header=None)\n",
    "gene = gene.iloc[f_id,:]\n",
    "print(gene)\n",
    "gene.to_csv(savepath + '/genes.tsv', sep='\\t' , header=False, index=False)"
   ]
  },
  {
   "cell_type": "code",
   "execution_count": null,
   "metadata": {},
   "outputs": [],
   "source": [
    "#process barcode\n",
    "fetal_barcode = pd.read_table(path+'Fetal_Forebrain/FB_RNA/barcodes.tsv', header=None)\n",
    "adult_barcode = pd.read_table(path+'Adult_Cerebrail_Cortex/Adult_CTX_RNA/barcodes.tsv', header=None)"
   ]
  },
  {
   "cell_type": "code",
   "execution_count": null,
   "metadata": {},
   "outputs": [],
   "source": [
    "barcode = pd.concat([fetal_barcode, adult_barcode], axis=0)"
   ]
  },
  {
   "cell_type": "code",
   "execution_count": null,
   "metadata": {},
   "outputs": [],
   "source": [
    "barcode"
   ]
  },
  {
   "cell_type": "code",
   "execution_count": null,
   "metadata": {},
   "outputs": [],
   "source": [
    "barcode.to_csv(savepath + '/barcodes.tsv', sep='\\t' ,header=False, index=False)"
   ]
  },
  {
   "cell_type": "code",
   "execution_count": 28,
   "metadata": {},
   "outputs": [],
   "source": [
    "#ATAC \n",
    "fetal_atac = scipy.io.mmread(path+'Fetal_Forebrain/FB_DNA/matrix.mtx')\n",
    "adult_atac = scipy.io.mmread(path+'Adult_Cerebrail_Cortex/Adult_CTX_DNA/matrix.mtx')"
   ]
  },
  {
   "cell_type": "code",
   "execution_count": 29,
   "metadata": {},
   "outputs": [],
   "source": [
    "fetal_gene = pd.read_table(path + 'Fetal_Forebrain/FB_DNA/genes.tsv', header=None)\n",
    "adult_gene = pd.read_table(path + 'Adult_Cerebrail_Cortex/Adult_CTX_DNA/genes.tsv', header=None)"
   ]
  },
  {
   "cell_type": "code",
   "execution_count": 30,
   "metadata": {},
   "outputs": [
    {
     "name": "stdout",
     "output_type": "stream",
     "text": [
      "                                 0                          1\n",
      "0          chr10:10000000-10001000    chr10:10000000-10001000\n",
      "1        chr10:100000000-100001000  chr10:100000000-100001000\n",
      "2        chr10:100001000-100002000  chr10:100001000-100002000\n",
      "3        chr10:100002000-100003000  chr10:100002000-100003000\n",
      "4        chr10:100003000-100004000  chr10:100003000-100004000\n",
      "...                            ...                        ...\n",
      "2637310       chrY:9995000-9996000       chrY:9995000-9996000\n",
      "2637311       chrY:9996000-9997000       chrY:9996000-9997000\n",
      "2637312       chrY:9997000-9998000       chrY:9997000-9998000\n",
      "2637313       chrY:9998000-9999000       chrY:9998000-9999000\n",
      "2637314      chrY:9999000-10000000      chrY:9999000-10000000\n",
      "\n",
      "[2637315 rows x 2 columns]\n",
      "                                 0                          1\n",
      "0          chr10:10000000-10001000    chr10:10000000-10001000\n",
      "1        chr10:100000000-100001000  chr10:100000000-100001000\n",
      "2        chr10:100002000-100003000  chr10:100002000-100003000\n",
      "3        chr10:100003000-100004000  chr10:100003000-100004000\n",
      "4        chr10:100004000-100005000  chr10:100004000-100005000\n",
      "...                            ...                        ...\n",
      "2614858       chrY:9995000-9996000       chrY:9995000-9996000\n",
      "2614859       chrY:9996000-9997000       chrY:9996000-9997000\n",
      "2614860       chrY:9997000-9998000       chrY:9997000-9998000\n",
      "2614861       chrY:9998000-9999000       chrY:9998000-9999000\n",
      "2614862      chrY:9999000-10000000      chrY:9999000-10000000\n",
      "\n",
      "[2614863 rows x 2 columns]\n"
     ]
    }
   ],
   "source": [
    "print(fetal_gene)\n",
    "print(adult_gene)"
   ]
  },
  {
   "cell_type": "code",
   "execution_count": 31,
   "metadata": {},
   "outputs": [
    {
     "data": {
      "text/plain": [
       "2637315"
      ]
     },
     "execution_count": 31,
     "metadata": {},
     "output_type": "execute_result"
    }
   ],
   "source": [
    "fetal_gene.iloc[:,0] == fetal_gene.iloc[:,1]\n",
    "sum(fetal_gene.iloc[:,0] == fetal_gene.iloc[:,1])"
   ]
  },
  {
   "cell_type": "code",
   "execution_count": 32,
   "metadata": {},
   "outputs": [
    {
     "data": {
      "text/plain": [
       "2614863"
      ]
     },
     "execution_count": 32,
     "metadata": {},
     "output_type": "execute_result"
    }
   ],
   "source": [
    "sum(adult_gene.iloc[:,0] == adult_gene.iloc[:,1])"
   ]
  },
  {
   "cell_type": "code",
   "execution_count": 33,
   "metadata": {},
   "outputs": [],
   "source": [
    "fetal_gene = fetal_gene.values[:,0]\n",
    "adult_gene = adult_gene.values[:,0]"
   ]
  },
  {
   "cell_type": "code",
   "execution_count": 34,
   "metadata": {},
   "outputs": [
    {
     "name": "stdout",
     "output_type": "stream",
     "text": [
      "2613805\n"
     ]
    }
   ],
   "source": [
    "co = set(fetal_gene) & set (adult_gene)\n",
    "#print(co)\n",
    "print(len(co))"
   ]
  },
  {
   "cell_type": "code",
   "execution_count": 35,
   "metadata": {},
   "outputs": [
    {
     "name": "stdout",
     "output_type": "stream",
     "text": [
      "2613805\n"
     ]
    }
   ],
   "source": [
    "f_id = []\n",
    "for i, gene in enumerate(fetal_gene):\n",
    "    if gene in co:\n",
    "        f_id.append(i)\n",
    "print(len(f_id))"
   ]
  },
  {
   "cell_type": "code",
   "execution_count": 36,
   "metadata": {},
   "outputs": [
    {
     "name": "stdout",
     "output_type": "stream",
     "text": [
      "2613805\n"
     ]
    }
   ],
   "source": [
    "a_id = []\n",
    "for i, gene in enumerate(adult_gene):\n",
    "    if gene in co:\n",
    "        a_id.append(i)\n",
    "print(len(a_id))"
   ]
  },
  {
   "cell_type": "code",
   "execution_count": 37,
   "metadata": {},
   "outputs": [],
   "source": [
    "fetal_atac = fetal_atac.transpose().tocsr()\n",
    "adult_atac = adult_atac.transpose().tocsr()"
   ]
  },
  {
   "cell_type": "code",
   "execution_count": 38,
   "metadata": {},
   "outputs": [
    {
     "name": "stdout",
     "output_type": "stream",
     "text": [
      "(25845, 2637315)\n",
      "(15191, 2614863)\n"
     ]
    }
   ],
   "source": [
    "print(fetal_atac.shape)\n",
    "print(adult_atac.shape)"
   ]
  },
  {
   "cell_type": "code",
   "execution_count": 39,
   "metadata": {},
   "outputs": [],
   "source": [
    "fetal_atac = fetal_atac[:,f_id]\n",
    "adult_atac = adult_atac[:,a_id]"
   ]
  },
  {
   "cell_type": "code",
   "execution_count": 40,
   "metadata": {},
   "outputs": [],
   "source": [
    "scipy.io.mmwrite(path + '/processed_fetal/ATAC-seq/matrix.mtx', fetal_atac.transpose().astype('int'))\n",
    "scipy.io.mmwrite(path + '/processed_adult/ATAC-seq/matrix.mtx', adult_atac.transpose().astype('int'))"
   ]
  },
  {
   "cell_type": "code",
   "execution_count": null,
   "metadata": {},
   "outputs": [],
   "source": [
    "atac = scipy.sparse.vstack([fetal_atac, adult_atac]).transpose().astype('int')"
   ]
  },
  {
   "cell_type": "code",
   "execution_count": null,
   "metadata": {},
   "outputs": [],
   "source": [
    "atac.shape"
   ]
  },
  {
   "cell_type": "code",
   "execution_count": null,
   "metadata": {},
   "outputs": [],
   "source": [
    "savepath = path + 'combined/ATAC-seq'\n",
    "scipy.io.mmwrite(savepath + '/matrix.mtx', atac)"
   ]
  },
  {
   "cell_type": "code",
   "execution_count": null,
   "metadata": {},
   "outputs": [],
   "source": [
    "#save genes\n",
    "gene =  pd.read_table(path + 'Fetal_Forebrain/FB_DNA/genes.tsv', header=None)\n",
    "gene = gene.iloc[f_id,:]\n",
    "print(gene)\n",
    "gene.to_csv(savepath + '/peaks.tsv', sep='\\t', header=False, index=False)"
   ]
  },
  {
   "cell_type": "code",
   "execution_count": null,
   "metadata": {},
   "outputs": [],
   "source": [
    "#process barcode\n",
    "fetal_barcode = pd.read_table(path+'Fetal_Forebrain/FB_DNA/barcodes.tsv', header=None)\n",
    "adult_barcode = pd.read_table(path+'Adult_Cerebrail_Cortex/Adult_CTX_DNA/barcodes.tsv', header=None)\n",
    "\n",
    "barcode = pd.concat([fetal_barcode, adult_barcode], axis=0)"
   ]
  },
  {
   "cell_type": "code",
   "execution_count": null,
   "metadata": {},
   "outputs": [],
   "source": [
    "barcode"
   ]
  },
  {
   "cell_type": "code",
   "execution_count": null,
   "metadata": {},
   "outputs": [],
   "source": [
    "barcode.to_csv(savepath + '/barcodes.tsv', sep='\\t', header=False, index=False)"
   ]
  },
  {
   "cell_type": "code",
   "execution_count": 3,
   "metadata": {},
   "outputs": [],
   "source": [
    "#Create toy dataset\n",
    "import torch"
   ]
  },
  {
   "cell_type": "code",
   "execution_count": 138,
   "metadata": {},
   "outputs": [],
   "source": [
    "#rna_path = '../data/Paired-seq/combined/RNA-seq'\n",
    "#atac_path = '../data/Paired-seq/combined/ATAC-seq'\n",
    "rna_path = '../data/Paired-seq/processed_adult/RNA-seq'\n",
    "atac_path = '../data/Paired-seq/processed_adult/ATAC-seq'"
   ]
  },
  {
   "cell_type": "code",
   "execution_count": 139,
   "metadata": {
    "scrolled": true
   },
   "outputs": [
    {
     "name": "stdout",
     "output_type": "stream",
     "text": [
      "Loading  data ...\n",
      "Original data contains 15191 cells x 29589 peaks\n",
      "Finished loading takes 0.11 min\n"
     ]
    }
   ],
   "source": [
    "r_dataset = RNA_Dataset(rna_path, min_reads=150,min_cells=50)"
   ]
  },
  {
   "cell_type": "code",
   "execution_count": null,
   "metadata": {},
   "outputs": [
    {
     "name": "stdout",
     "output_type": "stream",
     "text": [
      "Loading  data ...\n"
     ]
    }
   ],
   "source": [
    "a_dataset = ATAC_Dataset(atac_path, low=0.002, high=1, min_peaks=200)"
   ]
  },
  {
   "cell_type": "code",
   "execution_count": null,
   "metadata": {},
   "outputs": [],
   "source": [
    "print(r_dataset.data.shape)\n",
    "print(a_dataset.data.shape)\n",
    "print(r_dataset.indices)\n",
    "print(a_dataset.indices)"
   ]
  },
  {
   "cell_type": "code",
   "execution_count": null,
   "metadata": {},
   "outputs": [],
   "source": [
    "co_indice = set(r_dataset.indices) & set(a_dataset.indices)\n",
    "co_indice = list(co_indice)"
   ]
  },
  {
   "cell_type": "code",
   "execution_count": null,
   "metadata": {},
   "outputs": [],
   "source": [
    "import torch\n",
    "from torch.utils.data import Subset"
   ]
  },
  {
   "cell_type": "code",
   "execution_count": null,
   "metadata": {},
   "outputs": [],
   "source": [
    "r_indice = [list(r_dataset.indices).index(i) for i in co_indice]"
   ]
  },
  {
   "cell_type": "code",
   "execution_count": null,
   "metadata": {},
   "outputs": [],
   "source": [
    "r_dataset.data = r_dataset.data[r_indice,:]"
   ]
  },
  {
   "cell_type": "code",
   "execution_count": null,
   "metadata": {},
   "outputs": [],
   "source": [
    "a_indice = [list(a_dataset.indices).index(i) for i in co_indice]"
   ]
  },
  {
   "cell_type": "code",
   "execution_count": null,
   "metadata": {},
   "outputs": [],
   "source": [
    "a_dataset.data = a_dataset.data[a_indice,:]"
   ]
  },
  {
   "cell_type": "code",
   "execution_count": null,
   "metadata": {},
   "outputs": [],
   "source": [
    "torch.save(r_dataset,  '../data/Paired-seq/processed_adult/r_dataset_.rar') "
   ]
  },
  {
   "cell_type": "code",
   "execution_count": null,
   "metadata": {},
   "outputs": [],
   "source": [
    "torch.save(a_dataset,  '../data/Paired-seq/processed_adult/a_dataset_.rar') "
   ]
  },
  {
   "cell_type": "code",
   "execution_count": null,
   "metadata": {},
   "outputs": [],
   "source": [
    "r_dataset.data.shape"
   ]
  },
  {
   "cell_type": "code",
   "execution_count": null,
   "metadata": {},
   "outputs": [],
   "source": [
    "a_dataset.data.shape"
   ]
  },
  {
   "cell_type": "code",
   "execution_count": null,
   "metadata": {},
   "outputs": [],
   "source": [
    "#Remove outliers\n",
    "keep = pd.read_csv('../data/Paired-seq/processed_adult/keep_id.csv',header=None,index_col=None).values\n",
    "keep = np.squeeze(keep)\n",
    "len(keep)"
   ]
  },
  {
   "cell_type": "code",
   "execution_count": null,
   "metadata": {},
   "outputs": [],
   "source": [
    "r_dataset.data = r_dataset.data[keep,:]\n",
    "r_dataset.data.shape"
   ]
  },
  {
   "cell_type": "code",
   "execution_count": null,
   "metadata": {},
   "outputs": [],
   "source": [
    "a_dataset.data = a_dataset.data[keep,:]\n",
    "a_dataset.data.shape"
   ]
  },
  {
   "cell_type": "code",
   "execution_count": null,
   "metadata": {},
   "outputs": [],
   "source": [
    "torch.save(r_dataset,  '../data/Paired-seq/processed_adult/r_dataset.rar') \n",
    "torch.save(a_dataset,  '../data/Paired-seq/processed_adult/a_dataset.rar') "
   ]
  },
  {
   "cell_type": "code",
   "execution_count": null,
   "metadata": {},
   "outputs": [],
   "source": []
  },
  {
   "cell_type": "code",
   "execution_count": null,
   "metadata": {},
   "outputs": [],
   "source": [
    "save_path = '../data/Paired-seq/combined/'"
   ]
  },
  {
   "cell_type": "code",
   "execution_count": null,
   "metadata": {},
   "outputs": [],
   "source": [
    "torch.save(r_dataset, save_path + 'r_dataset.rar') #combined"
   ]
  },
  {
   "cell_type": "code",
   "execution_count": null,
   "metadata": {},
   "outputs": [],
   "source": [
    "torch.load(save_path + 'r_dataset.rar') #combined"
   ]
  },
  {
   "cell_type": "code",
   "execution_count": null,
   "metadata": {},
   "outputs": [],
   "source": [
    "torch.save(a_dataset, save_path+'a_dataset.rar') #combined"
   ]
  },
  {
   "cell_type": "code",
   "execution_count": null,
   "metadata": {},
   "outputs": [],
   "source": [
    "torch.load(save_path + 'a_dataset.rar') #combined"
   ]
  },
  {
   "cell_type": "code",
   "execution_count": null,
   "metadata": {},
   "outputs": [],
   "source": []
  }
 ],
 "metadata": {
  "kernelspec": {
   "display_name": "venv_multimodal",
   "language": "python",
   "name": "venv_multimodal"
  },
  "language_info": {
   "codemirror_mode": {
    "name": "ipython",
    "version": 3
   },
   "file_extension": ".py",
   "mimetype": "text/x-python",
   "name": "python",
   "nbconvert_exporter": "python",
   "pygments_lexer": "ipython3",
   "version": "3.7.3"
  }
 },
 "nbformat": 4,
 "nbformat_minor": 2
}
