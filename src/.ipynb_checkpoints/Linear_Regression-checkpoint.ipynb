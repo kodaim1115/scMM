{
 "cells": [
  {
   "cell_type": "markdown",
   "metadata": {},
   "source": [
    "# Chapter 2 最尤推定と線形モデル"
   ]
  },
  {
   "cell_type": "markdown",
   "metadata": {},
   "source": [
    "## 2.1 確率モデルと最尤推定"
   ]
  },
  {
   "cell_type": "markdown",
   "metadata": {},
   "source": [
    "確率モデルとは次のように変数 $x$ がパラメータ $\\theta$ をもつある確率分布 $P(x|\\theta)$ から生成されていると仮定しているモデルを指します。\n",
    "$$x \\sim P(x|\\theta) $$\n",
    "\n",
    "ある互いに独立な $N$ 個のデータ $X = (x_{0}, x_{1}, \\cdots)$ が与えられたとき、以下のように各データの確率関数の値の積を $\\theta$ の関数とすると、これは $\\theta$ の尤もらしさとなり、尤度（Likelihood）と呼ばれます。\n",
    "$$L(\\theta) = \\prod_{n} P(x_{n}|\\theta)$$\n",
    "\n",
    "尤度は確率モデルで最も重要な量であり、尤度を最大にするようなパラメータ $\\theta$ を求めることを最尤推定（Maximum Likelihood Estimation, MLE）といいます。\n",
    "\n",
    "通常は計算のしやすさなどから対数尤度の形で扱われます。\n",
    "$$\\mbox{ln}L(\\theta) = \\sum_{n}\\mbox{ln}P(x_{n}|\\theta)$$"
   ]
  },
  {
   "cell_type": "markdown",
   "metadata": {},
   "source": [
    "## 2.2 確率的勾配降下法\n",
    "対数尤度関数の微分が 0 になる方程式に解析解が無い場合には、数値的に最適化をしていきます。また、この分野では一般的にある目的関数を最小化することを目的とします。このように最小化する場合の目的関数は損失関数（Loss Function）とも呼ばれます。そのため、対数尤度関数を最大化するのではなく、符号を反転したものを最小化することが目的となります。\n",
    "$$\\theta_{MLE} = \\mathop{\\rm arg~min}\\limits_{\\theta} E(\\theta)$$\n",
    "$$E(\\theta) = -\\mbox{ln}L(\\theta)$$\n",
    "\n",
    "こういった微分可能な関数の数値最適化を解く最もシンプルな方法は勾配降下法（Gradient Descent）と呼ばれるもので、以下のように勾配（微分係数）を利用して繰り返し最適化していく方法です。\n",
    "$$\\theta^{t+1} = \\theta^{t} - \\gamma\\frac{\\partial}{\\partial \\theta}E(\\theta^{t})$$\n",
    "\n",
    "ここで $\\gamma$ は学習率パラメータで正の値です。学習率が大きいと損失関数の減少も速いですが、うまく収束せずに振動してしまう可能性があります。\n",
    "\n",
    "一方、学習率が小さいと損失関数の減少が遅く、収束するまでに何回も計算が必要になります。特に対数尤度関数のように目的関数が同じ形の関数の和に分解できる時にはすべての値を使用するのではなく、ランダムに一部の値（ミニバッチ）のみを使用する確率的勾配降下（Stochastic Gradient Descent, SGD）やその亜種が利用でき、ビッグデータなどデータが多い場合に非常に効果的であることが知られています。\n",
    "$$E(\\theta) = \\sum_{n}E_{n}(\\theta)$$\n",
    "$$\\theta^{t+1} = \\theta^{t} - \\gamma \\sum_{n\\in batch} E_{n}(\\theta)$$"
   ]
  },
  {
   "cell_type": "markdown",
   "metadata": {},
   "source": [
    "## 2.3 線形回帰モデル"
   ]
  },
  {
   "cell_type": "markdown",
   "metadata": {},
   "source": [
    "### 2.3.1 線形回帰モデルの最尤推定\n",
    "線形回帰モデル（Linear Regression）モデルは複数の変数から 1 つ、または複数の値を予測するための手法です。次のような式で表されます。\n",
    "$$y = \\boldsymbol{a} \\cdot \\boldsymbol{x} + b + \\epsilon = \\sum_{i}a_{i}x_{i} + b + \\epsilon$$\n",
    "\n",
    "ここで $\\boldsymbol{x}$ は独立変数や特徴量といい、$y$ は予測したい目的変数、$\\boldsymbol{a}, b$ がモデルのパラメータ（回帰係数）、$\\epsilon$ は正規分布 $\\mathcal{N}(0, \\sigma^{2})$ に従う誤差項です。$x$ から $y$ を予測することが目的です。変数 $x$ に 1 も含めて、$(1, x_{1}, x_{2}, \\cdots)$ のように表すことで、切片項 $b$ も回帰係数 $\\boldsymbol{a}$ に含めることができ、次のような簡潔な式になります。\n",
    "$$y = \\boldsymbol{a}\\cdot\\boldsymbol{x}$$\n",
    "\n",
    "一方、線形回帰モデルは確率モデルでもあり、次のようにも表せます。\n",
    "$$y \\sim \\mathcal{N}(x|\\boldsymbol{a} \\cdot \\boldsymbol{x}, \\sigma^{2})$$\n",
    "\n",
    "$N$ 個のデータが与えられたとき、線形回帰モデルの対数尤度関数は以下のようになります。\n",
    "$$\\mbox{ln}L(\\boldsymbol{a}) = -\\frac{N}{2}\\mbox{ln}2\\pi\\sigma^{2} - \\frac{1}{2\\sigma^{2}}\\sum_{n}(y_{n}-m_{n})^{2}$$\n",
    "$$m_{n} = \\sum_{i}a_{i}x_{ni}$$\n",
    "\n",
    "$\\boldsymbol{a}$ で微分を作る時に意味がある項だけ残すと、実際には次のように平均二乗誤差（Mean Squared Error, MSE）を最小化するという問題になります。\n",
    "$$E(\\boldsymbol{a}) = \\sum_{i}E_{n}(\\boldsymbol{a}) = \\frac{1}{N}\\sum_{n}(y_{n} - \\boldsymbol{a}_{n} \\cdot \\boldsymbol{x}_{n})^{2}$$\n",
    "\n",
    "この $E(\\boldsymbol{a})$ を最小化させることで、モデルの $\\boldsymbol{a}$ を最尤推定することができます。"
   ]
  },
  {
   "cell_type": "markdown",
   "metadata": {},
   "source": [
    "### 2.3.2 PyTorch で線形回帰モデル（from scratch）\n",
    "ここでは次のような 2 変数のモデルを考える\n",
    "$$y = 1 + 2x_{1} + 3x_{2}$$"
   ]
  },
  {
   "cell_type": "code",
   "execution_count": 27,
   "metadata": {},
   "outputs": [],
   "source": [
    "# テストデータを生成してパラメータを学習するための変数を準備\n",
    "import torch\n",
    "\n",
    "# 真の係数\n",
    "w_true = torch.Tensor([1, 2, 3])\n",
    "\n",
    "# X のデータの準備。切片を回帰係数に含めるため、X の最初の次元に 1 を追加しておく\n",
    "X = torch.cat([torch.ones(100, 1), torch.randn(100, 2)], 1)\n",
    "\n",
    "# 真の係数と各 X との内積を行列とベクトルの積でまとめて計算\n",
    "y = torch.mv(X, w_true) + torch.randn(100) * 0.5\n",
    "\n",
    "# 勾配降下で最適化するためのパラメータの Tensor を乱数で初期化して作成\n",
    "w = torch.randn(3, requires_grad=True)\n",
    "\n",
    "# 学習率\n",
    "gamma = 0.1"
   ]
  },
  {
   "cell_type": "markdown",
   "metadata": {},
   "source": [
    "`torch.Tensor(list)` : list の値の Tensor を作成  \n",
    "`torch.randn(n, m)` : n × m 行のテンソルを正規分布乱数で作る  \n",
    "`torch.cat(Tensor1, Tensor2, dim)` : dim のところで Tensor1, Tensor2 を結合する  \n",
    "`torch.ones(size)` : 指定したサイズの 1 配列を作る  \n",
    "`torch.mv()` : 2 次元 × 1 次元の計算を行う  \n",
    "`requires_grad = True` : 微分可能"
   ]
  },
  {
   "cell_type": "code",
   "execution_count": 28,
   "metadata": {},
   "outputs": [],
   "source": [
    "# 勾配降下法でパラメータを最適化\n",
    "\n",
    "# 損失関数のログ\n",
    "losses = []\n",
    "\n",
    "# 100 回イテレーションを回す\n",
    "for epoc in range(100):\n",
    "    # 前回の backward メソッドで計算された勾配の値を削除\n",
    "    w.grad = None\n",
    "    \n",
    "    # 線形モデルで y の予測値を計算\n",
    "    y_pred = torch.mv(X, w)\n",
    "    \n",
    "    # MSE loss と w による微分を計算\n",
    "    loss = torch.mean((y-y_pred)**2)\n",
    "    loss.backward()\n",
    "    \n",
    "    # 勾配を更新する。w をそのまま代入して更新すると異なる Tensor になって計算グラフが破壊されてしまうので data だけ更新する\n",
    "    w.data = w.data - gamma*w.grad.data\n",
    "    \n",
    "    # 収束確認のために loss を記録しておく\n",
    "    losses.append(loss.item())"
   ]
  },
  {
   "cell_type": "markdown",
   "metadata": {},
   "source": [
    "`torch.mean(X)` : X の平均値を計算  \n",
    "`X.backward()` : X の微分計算  \n",
    "`Tensor.item()` : Tensor の値だけを取り出す（`requires_grad=True` の場合に用いる？）  \n",
    "`x.grad` : x の勾配情報  \n",
    "`x.data` : x の中身を取り出す（`requires_grad=False` の Tensor のみに使える？）"
   ]
  },
  {
   "cell_type": "code",
   "execution_count": 29,
   "metadata": {},
   "outputs": [
    {
     "data": {
      "text/plain": [
       "[<matplotlib.lines.Line2D at 0x7f452c4bbcf8>]"
      ]
     },
     "execution_count": 29,
     "metadata": {},
     "output_type": "execute_result"
    },
    {
     "data": {
      "image/png": "[encoded data removed]",
      "text/plain": [
       "<Figure size 432x288 with 1 Axes>"
      ]
     },
     "metadata": {
      "needs_background": "light"
     },
     "output_type": "display_data"
    }
   ],
   "source": [
    "# matplotlib でプロット\n",
    "%matplotlib inline\n",
    "from matplotlib import pyplot as plt\n",
    "plt.plot(losses)"
   ]
  },
  {
   "cell_type": "code",
   "execution_count": 30,
   "metadata": {},
   "outputs": [
    {
     "data": {
      "text/plain": [
       "tensor([1.0754, 2.0091, 3.0313], requires_grad=True)"
      ]
     },
     "execution_count": 30,
     "metadata": {},
     "output_type": "execute_result"
    }
   ],
   "source": [
    "# 回帰係数の確認\n",
    "w"
   ]
  },
  {
   "cell_type": "markdown",
   "metadata": {},
   "source": [
    "### 2.3.3 Pytorch 線形回帰モデル（nn, optim モジュールの使用）"
   ]
  },
  {
   "cell_type": "code",
   "execution_count": 31,
   "metadata": {},
   "outputs": [],
   "source": [
    "# 線形回帰モデルの構築と最適化の準備\n",
    "from torch import nn, optim\n",
    "\n",
    "# Linear 層を作成。今回は切片項は回帰係数に含めるので、入力の次元を 3 とし、bias（切片）を False にする\n",
    "net = nn.Linear(in_features=3, out_features=1, bias=False)\n",
    "\n",
    "# SGD のオプティマイザーに上で定義したネットワークのパラメータを渡して初期化\n",
    "optimizer = optim.SGD(net.parameters(), lr=0.1)\n",
    "\n",
    "# MSE loss クラス\n",
    "loss_fn = nn.MSELoss()"
   ]
  },
  {
   "cell_type": "markdown",
   "metadata": {},
   "source": [
    "`nn.Linear(in, out)` : 入力に重みとバイアスによる線形変換を行う（今回はバイアスを用いない）  \n",
    "`optim.SGD` : SGD の計算を行う関数。`lr` は学習率  \n",
    "詳細：https://qiita.com/mathlive/items/2c67efa2d451ea1da1b1  \n",
    "`network.parameters()` : network のパラメータを渡す（ここでは微分可能である必要がある）  \n",
    "`nn.MSELoss()` : 平均二乗誤差を計算するモジュールで、損失関数として用いている。"
   ]
  },
  {
   "cell_type": "code",
   "execution_count": 33,
   "metadata": {},
   "outputs": [],
   "source": [
    "# 最適化のイテレーション（繰り返しループ）を回す\n",
    "\n",
    "# 損失関数のログ\n",
    "losses = []\n",
    "\n",
    "# 100 回イテレーションを回す\n",
    "for epoc in range(100):\n",
    "    # 前回の backward メソッドで計算された勾配の値を削除\n",
    "    optimizer.zero_grad()\n",
    "    \n",
    "    # 線形回帰モデルで y の予測値を計算\n",
    "    y_pred = net(X)\n",
    "    \n",
    "    # MSE loss を計算。y_pred は (n, 1) のような shape を持っているので (n, )に直す必要がある\n",
    "    loss = loss_fn(y_pred.view_as(y), y)\n",
    "    \n",
    "    # loss の w による微分を計算\n",
    "    loss.backward()\n",
    "    \n",
    "    # 勾配を更新する\n",
    "    optimizer.step()\n",
    "    \n",
    "    # 収束確認のために loss を記録しておく\n",
    "    losses.append(loss.item())"
   ]
  },
  {
   "cell_type": "markdown",
   "metadata": {},
   "source": [
    "`optimizer.zero_grad()` : 勾配の値を削除する関数。これを行わないと前に計算した勾配が残り、最小化する方向に勾配が向かない  \n",
    "`x.view_as(y)` : x を y と同じサイズに変換する  \n",
    "`x.step()` : x のパラメータを更新する"
   ]
  },
  {
   "cell_type": "code",
   "execution_count": 34,
   "metadata": {},
   "outputs": [
    {
     "data": {
      "text/plain": [
       "[Parameter containing:\n",
       " tensor([[1.0754, 2.0091, 3.0313]], requires_grad=True)]"
      ]
     },
     "execution_count": 34,
     "metadata": {},
     "output_type": "execute_result"
    }
   ],
   "source": [
    "# 収束したモデルのパラメータを確認\n",
    "list(net.parameters())"
   ]
  },
  {
   "cell_type": "markdown",
   "metadata": {},
   "source": [
    "## 2.4 ロジスティック回帰"
   ]
  },
  {
   "cell_type": "markdown",
   "metadata": {},
   "source": [
    "### 2.4.1 ロジスティック回帰の最尤推定\n",
    "\n",
    "ロジスティック回帰は名前に回帰とついていますが、実は分類のための線形モデルです。線形回帰は目的変数 y が連続値でしたが、ロジスティック回帰では y は $[0, 1]$ の離散値で、2 クラスの分類問題になります。\n",
    "\n",
    "変数の線形結合はそのままでは $[-\\infty , \\infty]$ までの間で任意の値をとれてしまうため、ロジスティック回帰では線形結合を取った後に、さらにシグモイド関数 $\\sigma(x)$ を作用させて $[0, 1]$ の間の値に変換します。\n",
    "\n",
    "$$h = \\boldsymbol{a} \\cdot \\boldsymbol{x} , z = \\sigma(h) = \\frac{1}{1 + e^{-h}}$$\n",
    "\n",
    "線形回帰モデルと同様、ロジスティック回帰も確率モデルです。このモデルでは $y$ がパラメータ $z$ のベルヌーイ分布に従うと仮定します $(y\\sim B(z))$。そのため、最尤推定に使うための損失関数は 2.1 節で登場したベルヌーイ分布の尤度の式と比べると次のようにクロスエントロピー（Cross Entropy）と呼ばれる量になります。\n",
    "\n",
    "$$E(\\boldsymbol{a}) = -\\sum_{n}y_{n}\\mbox{ln}z_{n} + (1-y_{n})\\mbox{ln}(1-z_{n})$$"
   ]
  },
  {
   "cell_type": "markdown",
   "metadata": {},
   "source": [
    "### 2.4.2 PyTorch でロジスティック回帰"
   ]
  },
  {
   "cell_type": "code",
   "execution_count": 36,
   "metadata": {},
   "outputs": [],
   "source": [
    "# iris のデータセットの準備\n",
    "from sklearn.datasets import load_iris\n",
    "iris = load_iris()\n",
    "\n",
    "# iris は (0, 1, 2) の 3 クラスの分類問題なのでここでは (0, 1) の 2 クラス文のデータだけを使用する\n",
    "# 本来は訓練用とテスト用にデータを分けるべきだがここでは省略\n",
    "X = iris.data[:100]\n",
    "y = iris.target[:100]\n",
    "\n",
    "# Numpy の ndarray を PyTorch の Tensor に変換\n",
    "X = torch.tensor(X, dtype=torch.float32)\n",
    "y = torch.tensor(y, dtype=torch.float32)"
   ]
  },
  {
   "cell_type": "code",
   "execution_count": 37,
   "metadata": {},
   "outputs": [],
   "source": [
    "# モデルの作成\n",
    "\n",
    "# iris のデータは 4 次元\n",
    "net = nn.Linear(4, 1)\n",
    "\n",
    "# シグモイド関数を作用させ、2 クラス分類の、クロスエントロピーを計算する関数\n",
    "loss_fn = nn.BCEWithLogitsLoss()\n",
    "\n",
    "# SGD（少し大きめの学習率）\n",
    "optimizer = optim.SGD(net.parameters(), lr=0.25)"
   ]
  },
  {
   "cell_type": "markdown",
   "metadata": {},
   "source": [
    "`nn.BCEWithLogitsLoss()` : シグモイド関数を用いたバイナリクロスエントロピーの計算を行う。  \n",
    "参考：http://37ma5ras.blogspot.com/2017/12/loss-function.html"
   ]
  },
  {
   "cell_type": "code",
   "execution_count": 38,
   "metadata": {},
   "outputs": [],
   "source": [
    "# パラメータ最適化のイテレーションを回す\n",
    "\n",
    "# 損失関数のログ\n",
    "losses = []\n",
    "\n",
    "# 100 回イテレーションを回す\n",
    "for epoc in range(100):\n",
    "    # 前回の backward メソッドで計算された勾配の値を削除\n",
    "    optimizer.zero_grad()\n",
    "    \n",
    "    # 線形モデルで y の予測値を計算\n",
    "    y_pred = net(X)\n",
    "    \n",
    "    # MSE loss と w による微分を計算\n",
    "    loss = loss_fn(y_pred.view_as(y), y)\n",
    "    loss.backward()\n",
    "    \n",
    "    # 勾配を更新する\n",
    "    optimizer.step()\n",
    "    \n",
    "    # 収束確認のために loss を記録しておく\n",
    "    losses.append(loss.item())"
   ]
  },
  {
   "cell_type": "code",
   "execution_count": 39,
   "metadata": {},
   "outputs": [
    {
     "data": {
      "text/plain": [
       "[<matplotlib.lines.Line2D at 0x7f4525db0940>]"
      ]
     },
     "execution_count": 39,
     "metadata": {},
     "output_type": "execute_result"
    },
    {
     "data": {
      "image/png": "[encoded data removed]",
      "text/plain": [
       "<Figure size 432x288 with 1 Axes>"
      ]
     },
     "metadata": {
      "needs_background": "light"
     },
     "output_type": "display_data"
    }
   ],
   "source": [
    "%matplotlib inline\n",
    "from matplotlib import pyplot as plt\n",
    "plt.plot(losses)"
   ]
  },
  {
   "cell_type": "code",
   "execution_count": 43,
   "metadata": {},
   "outputs": [
    {
     "data": {
      "text/plain": [
       "100"
      ]
     },
     "execution_count": 43,
     "metadata": {},
     "output_type": "execute_result"
    }
   ],
   "source": [
    "# モデルの作成\n",
    "\n",
    "# 線形結合の結果\n",
    "h = net(X)\n",
    "\n",
    "# シグモイド関数を作用させた結果は y=1 の確率を表す\n",
    "prob = nn.functional.sigmoid(h)\n",
    "\n",
    "# 確率が 0.5 以上のものを クラス 1 と予想し、それ以外を 0 とする\n",
    "# PyTorch には Bool 型がないので、対応する型として ByteTensor が出力される\n",
    "y_pred = prob > 0.5\n",
    "\n",
    "# 予測結果の確認（y はFloatTensor なので、ByteTensor に変換してから比較する）\n",
    "\n",
    "(y.byte() == y_pred.view_as(y)).sum().item()"
   ]
  },
  {
   "cell_type": "markdown",
   "metadata": {},
   "source": [
    "`nn.functional.sigmoid(x)` : x をシグモイド関数に作用させる"
   ]
  },
  {
   "cell_type": "markdown",
   "metadata": {},
   "source": [
    "### 2.4.3 多クラスのロジスティック回帰"
   ]
  },
  {
   "cell_type": "markdown",
   "metadata": {},
   "source": [
    "ロジスティック回帰は 2 クラスだけでなく、多クラスの分類問題にも拡張できます。行うこととしては、線形結合層の出力を 1 次元でなくクラス数分の次元にし、損失関数をソフトマックスクロスエントロピーというクロスエントロピー関数の多クラス版で置き換えるだけです。"
   ]
  },
  {
   "cell_type": "code",
   "execution_count": 44,
   "metadata": {},
   "outputs": [],
   "source": [
    "# 10 種類の手書きの数字のデータセットの分類問題\n",
    "from sklearn.datasets import load_digits\n",
    "digits = load_digits()\n",
    "\n",
    "X = digits.data\n",
    "y = digits.target\n",
    "\n",
    "X = torch.tensor(X, dtype=torch.float32)\n",
    "\n",
    "# CrossEntropyLoss 関数は y として int64 型の Tensor を受け取るので注意\n",
    "y = torch.tensor(y, dtype=torch.int64)\n",
    "\n",
    "# 出力は 10（クラス数）次元\n",
    "net = nn.Linear(X.size()[1], 10)\n",
    "\n",
    "# ソフトマックスクロスエントロピー\n",
    "loss_fn = nn.CrossEntropyLoss()\n",
    "\n",
    "# SGD\n",
    "optimizer = optim.SGD(net.parameters(), lr=0.01)"
   ]
  },
  {
   "cell_type": "markdown",
   "metadata": {},
   "source": [
    "`nn.CrossEntropyLoss()` : クロスエントロピーを損失関数として用いる  \n",
    "参考：https://qiita.com/Haaamaaaaa/items/58ba0962a8fcd1eeb82e"
   ]
  },
  {
   "cell_type": "code",
   "execution_count": 45,
   "metadata": {},
   "outputs": [],
   "source": [
    "# 学習のイテレーション部分\n",
    "\n",
    "# 損失関数のログ\n",
    "losses = []\n",
    "\n",
    "# 100 回イテレーションを回す\n",
    "for epoc in range(100):\n",
    "    # 前回の backward メソッドで計算された勾配の値を削除\n",
    "    optimizer.zero_grad()\n",
    "    \n",
    "    # 線形モデルで y の予測値を計算\n",
    "    y_pred = net(X)\n",
    "    \n",
    "    # MSE loss と w による微分を計算\n",
    "    loss = loss_fn(y_pred, y)\n",
    "    loss.backward()\n",
    "    \n",
    "    # 勾配を更新する\n",
    "    optimizer.step()\n",
    "    \n",
    "    # 収束確認のために loss を記録しておく\n",
    "    losses.append(loss.item())"
   ]
  },
  {
   "cell_type": "code",
   "execution_count": 46,
   "metadata": {},
   "outputs": [
    {
     "data": {
      "text/plain": [
       "0.9393433500278241"
      ]
     },
     "execution_count": 46,
     "metadata": {},
     "output_type": "execute_result"
    }
   ],
   "source": [
    "# 正解率\n",
    "\n",
    "# torch.max は集計軸を指定すると最大値のほかにその位置も返す\n",
    "_, y_pred = torch.max(net(X), 1)\n",
    "\n",
    "# 正解軸を計算する\n",
    "(y_pred == y).sum().item() / len(y)"
   ]
  }
 ],
 "metadata": {
  "kernelspec": {
   "display_name": "Python 3",
   "language": "python",
   "name": "python3"
  },
  "language_info": {
   "codemirror_mode": {
    "name": "ipython",
    "version": 3
   },
   "file_extension": ".py",
   "mimetype": "text/x-python",
   "name": "python",
   "nbconvert_exporter": "python",
   "pygments_lexer": "ipython3",
   "version": "3.7.3"
  }
 },
 "nbformat": 4,
 "nbformat_minor": 4
}
