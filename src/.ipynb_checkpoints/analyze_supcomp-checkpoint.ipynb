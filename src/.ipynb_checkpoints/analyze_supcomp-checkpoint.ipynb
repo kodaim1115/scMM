{
 "cells": [
  {
   "cell_type": "code",
   "execution_count": 1,
   "metadata": {},
   "outputs": [],
   "source": [
    "import numpy as np\n",
    "import torch\n",
    "import torch.distributions as dist\n",
    "from torch import optim\n",
    "from torch.utils.data import DataLoader\n",
    "\n",
    "import models\n",
    "#import objectives\n",
    "import objectives_dev as objectives\n",
    "from utils import Logger, Timer, save_model, save_vars, unpack_data\n",
    "\n",
    "from utils import log_mean_exp, is_multidata, kl_divergence, get_mean\n",
    "\n",
    "from datasets_dev import ATAC_Dataset, RNA_Dataset\n",
    "\n",
    "import torch\n",
    "import torch.distributions as dist\n",
    "import torch.nn as nn\n",
    "import torch.nn.functional as F\n",
    "from numpy import prod, sqrt\n",
    "from torch.utils.data import DataLoader\n",
    "from torchvision import datasets, transforms\n",
    "from torchvision.utils import save_image, make_grid\n",
    "\n",
    "from utils import Constants, get_mean\n",
    "from vis import plot_embeddings, plot_kls_df, embed_umap\n",
    "\n",
    "from sklearn.manifold import TSNE\n",
    "import matplotlib.pyplot as plt\n",
    "\n",
    "import seaborn as sns\n",
    "from  scipy.cluster.hierarchy import dendrogram, linkage\n",
    "\n",
    "from sklearn.model_selection import ParameterGrid"
   ]
  },
  {
   "cell_type": "code",
   "execution_count": 4,
   "metadata": {},
   "outputs": [],
   "source": [
    "#args\n",
    "experiment = 'hyperparam'\n",
    "model = 'rna_atac_dev' #VAE試しに使う\n",
    "obj = 'elbo'\n",
    "K = 10\n",
    "looser = False\n",
    "llik_scaling = 0\n",
    "batch_size = 128\n",
    "epochs = 100\n",
    "latent_dim = 32\n",
    "num_hidden_layers = 2\n",
    "hidden_dim =1024\n",
    "learn_prior = False\n",
    "logp = False\n",
    "print_freq = 0\n",
    "no_analytics = False\n",
    "seed = 1\n",
    "\n",
    "class params():\n",
    "    \n",
    "    def __init__(self,\n",
    "                 experiment,\n",
    "                 model,\n",
    "                 obj,\n",
    "                 K,\n",
    "                 looser,\n",
    "                 llik_scaling,\n",
    "                 batch_size,\n",
    "                 epochs,\n",
    "                 latent_dim,\n",
    "                 num_hidden_layers,\n",
    "                 hidden_dim,\n",
    "                 learn_prior,\n",
    "                 logp,\n",
    "                 print_freq,\n",
    "                 no_analytics,\n",
    "                 seed):\n",
    "        \n",
    "        self.experiment = experiment\n",
    "        self.model = model\n",
    "        self.obj = obj\n",
    "        self.K = K\n",
    "        self.looser = looser\n",
    "        self.llik_scaling = llik_scaling\n",
    "        self.batch_size = batch_size\n",
    "        self.epochs = epochs\n",
    "        self.latent_dim = latent_dim\n",
    "        self.num_hidden_layers = num_hidden_layers\n",
    "        self.hidden_dim = hidden_dim\n",
    "        self.learn_prior = learn_prior\n",
    "        self.logp = logp\n",
    "        self.print_freq = print_freq\n",
    "        self.no_analytics = no_analytics\n",
    "        self.seed = seed\n",
    "        \n",
    "args = params(experiment,\n",
    "                model,\n",
    "                 obj,\n",
    "                 K,\n",
    "                 looser,\n",
    "                 llik_scaling,\n",
    "                 batch_size,\n",
    "                 epochs,\n",
    "                 latent_dim,\n",
    "                 num_hidden_layers,\n",
    "                 hidden_dim,\n",
    "                 learn_prior,\n",
    "                 logp,\n",
    "                 print_freq,\n",
    "                 no_analytics,\n",
    "                 seed)"
   ]
  },
  {
   "cell_type": "code",
   "execution_count": 5,
   "metadata": {},
   "outputs": [],
   "source": [
    "test_losses = []\n",
    "for i in range(40):\n",
    "    runId = str(i)\n",
    "    pretrained_path = '../experiments/' + args.experiment + '/' + runId\n",
    "    losses = torch.load(pretrained_path + '/losses.rar', map_location=torch.device('cpu') )\n",
    "    #train_loss = losses['train_loss']\n",
    "    val_loss = losses['val_loss']\n",
    "    test_loss = losses['test_loss']\n",
    "    id = val_loss.index(min(val_loss))\n",
    "    test_losses.append(test_loss[id])"
   ]
  },
  {
   "cell_type": "code",
   "execution_count": 7,
   "metadata": {},
   "outputs": [
    {
     "data": {
      "text/plain": [
       "[43272.53997093023,\n",
       " 10266.095188347868,\n",
       " 11687.640723413275,\n",
       " 19687.301462572676,\n",
       " 41896.37045784884,\n",
       " 13696.719158793605,\n",
       " 27029.9718840843,\n",
       " 12866.340615915698,\n",
       " 49680.90019379845,\n",
       " 14362.254368035368,\n",
       " 13365.545996850775,\n",
       " 10040.956380208334,\n",
       " 12243.52738160126,\n",
       " 11830.340790031492,\n",
       " 29256.48034762597,\n",
       " 12924.09421935562,\n",
       " 40648.065437257756,\n",
       " 14880.466494064922,\n",
       " 19558.0308563469,\n",
       " 12719.222921208819,\n",
       " 9058.483019924903,\n",
       " 12759.179717781008,\n",
       " 9712.97437469719,\n",
       " 13037.168589510658,\n",
       " 13164.325187742248,\n",
       " 9668.157627785853,\n",
       " 8937.149194525195,\n",
       " 10871.285867853681,\n",
       " 12042.923684290214,\n",
       " 14514.574892502422,\n",
       " 9217.592065618945,\n",
       " 9183.699786518895,\n",
       " 8611.20078579215,\n",
       " 8853.064157885174,\n",
       " 9285.992369186046,\n",
       " 63835.104037972385,\n",
       " 8320.635549146076,\n",
       " 10600.396234556685,\n",
       " 9214.653645833334,\n",
       " 9579.29211331153]"
      ]
     },
     "execution_count": 7,
     "metadata": {},
     "output_type": "execute_result"
    }
   ],
   "source": [
    "test_losses"
   ]
  },
  {
   "cell_type": "code",
   "execution_count": 14,
   "metadata": {},
   "outputs": [
    {
     "name": "stdout",
     "output_type": "stream",
     "text": [
      "36\n",
      "test_loss 8320.635549146076\n"
     ]
    }
   ],
   "source": [
    "model_id = test_losses.index(min(test_losses))\n",
    "print(model_id)\n",
    "print('test_loss ' + str(test_losses[model_id]))\n",
    "runId = str(model_id)\n",
    "pretrained_path = '../experiments/' + args.experiment + '/' + runId\n",
    "losses = torch.load(pretrained_path + '/losses.rar', map_location=torch.device('cpu') )\n",
    "train_loss = losses['train_loss']\n",
    "val_loss = losses['val_loss']\n",
    "test_loss = losses['test_loss']"
   ]
  },
  {
   "cell_type": "code",
   "execution_count": 11,
   "metadata": {},
   "outputs": [
    {
     "data": {
      "text/plain": [
       "36"
      ]
     },
     "execution_count": 11,
     "metadata": {},
     "output_type": "execute_result"
    }
   ],
   "source": []
  },
  {
   "cell_type": "code",
   "execution_count": null,
   "metadata": {},
   "outputs": [],
   "source": [
    "#Select pretrained model\n",
    "runId = '2020-03-20T15/58/02.732379xvk9jb3p'\n",
    "pretrained_path = '../experiments/' + args.experiment + '/' + runId\n",
    "\n",
    "print('Loading model {} from {}'.format(model.modelName, pretrained_path))\n",
    "\n",
    "model.load_state_dict(torch.load(pretrained_path + '/model.rar', map_location=torch.device('cpu') ))\n",
    "model._pz_params = model._pz_params\n",
    "\n",
    "runPath = pretrained_path"
   ]
  }
 ],
 "metadata": {
  "kernelspec": {
   "display_name": "venv_multimodal",
   "language": "python",
   "name": "venv_multimodal"
  },
  "language_info": {
   "codemirror_mode": {
    "name": "ipython",
    "version": 3
   },
   "file_extension": ".py",
   "mimetype": "text/x-python",
   "name": "python",
   "nbconvert_exporter": "python",
   "pygments_lexer": "ipython3",
   "version": "3.7.3"
  }
 },
 "nbformat": 4,
 "nbformat_minor": 2
}
