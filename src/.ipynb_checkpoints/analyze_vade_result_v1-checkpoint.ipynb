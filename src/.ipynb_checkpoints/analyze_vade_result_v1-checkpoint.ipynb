{
 "cells": [
  {
   "cell_type": "code",
   "execution_count": 1,
   "metadata": {},
   "outputs": [
    {
     "name": "stderr",
     "output_type": "stream",
     "text": [
      "/Users/kodaiminoura/proj/multimodal/venv/lib/python3.7/site-packages/umap/spectral.py:4: NumbaDeprecationWarning: No direct replacement for 'numba.targets' available. Visit https://gitter.im/numba/numba-dev to request help. Thanks!\n",
      "  import numba.targets\n"
     ]
    }
   ],
   "source": [
    "#import argparse\n",
    "import datetime\n",
    "import sys\n",
    "import json\n",
    "from collections import defaultdict\n",
    "from pathlib import Path\n",
    "from tempfile import mkdtemp\n",
    "\n",
    "import numpy as np\n",
    "import torch\n",
    "import torch.distributions as dist\n",
    "from torch import optim\n",
    "from torch.utils.data import DataLoader\n",
    "\n",
    "import math\n",
    "\n",
    "import models\n",
    "#import objectives\n",
    "import objectives_dev as objectives\n",
    "from utils_dev import log_mean_exp, is_multidata, kl_divergence, get_mean, vade_kld, Logger, Timer, save_model, save_vars, unpack_data\n",
    "\n",
    "from datasets_dev import ATAC_Dataset, RNA_Dataset\n",
    "\n",
    "import torch\n",
    "import torch.distributions as dist\n",
    "import torch.nn as nn\n",
    "import torch.nn.functional as F\n",
    "from numpy import prod, sqrt\n",
    "#from torch.utils.data import DataLoader\n",
    "from torchvision import datasets, transforms\n",
    "from torchvision.utils import save_image, make_grid\n",
    "\n",
    "from torch.utils.data import Subset, DataLoader\n",
    "from torchnet.dataset import TensorDataset, ResampleDataset\n",
    "\n",
    "from utils import Constants, get_mean\n",
    "from vis import plot_embeddings, plot_kls_df, embed_umap\n",
    "\n",
    "from sklearn.manifold import TSNE\n",
    "from sklearn.model_selection import ParameterGrid\n",
    "from sklearn.mixture import GaussianMixture\n",
    "import matplotlib.pyplot as plt\n",
    "import matplotlib.cm as cm\n",
    "import matplotlib.colors\n",
    "import pandas as pd\n",
    "\n",
    "import seaborn as sns\n",
    "from  scipy.cluster.hierarchy import dendrogram, linkage\n",
    "from scipy.io import mmwrite, mmread\n",
    "from scipy.sparse import csr_matrix"
   ]
  },
  {
   "cell_type": "code",
   "execution_count": 2,
   "metadata": {},
   "outputs": [],
   "source": [
    "#args\n",
    "experiment = 'test'\n",
    "model = 'VADE_rna_atac' #VAE試しに使う\n",
    "obj = 'elbo'\n",
    "K = 1\n",
    "looser = False\n",
    "llik_scaling = 0\n",
    "batch_size = 1024\n",
    "epochs = 100\n",
    "n_centroids = 20\n",
    "latent_dim = 20\n",
    "num_hidden_layers = 2\n",
    "hidden_dim = 1024\n",
    "learn_prior = False\n",
    "logp = False\n",
    "print_freq = 0\n",
    "no_analytics = False\n",
    "seed = 1\n",
    "dataSize = []\n",
    "r_dim = a_dim = []\n",
    "\n",
    "class params():\n",
    "    \n",
    "    def __init__(self,\n",
    "                 experiment,\n",
    "                 model,\n",
    "                 obj,\n",
    "                 K,\n",
    "                 looser,\n",
    "                 llik_scaling,\n",
    "                 batch_size,\n",
    "                 epochs,\n",
    "                 n_centroids,\n",
    "                 latent_dim,\n",
    "                 num_hidden_layers,\n",
    "                 hidden_dim,\n",
    "                 learn_prior,\n",
    "                 logp,\n",
    "                 print_freq,\n",
    "                 no_analytics,\n",
    "                 seed,\n",
    "                dataSize,\n",
    "                r_dim,\n",
    "                a_dim):\n",
    "        \n",
    "        self.experiment = experiment\n",
    "        self.model = model\n",
    "        self.obj = obj\n",
    "        self.K = K\n",
    "        self.looser = looser\n",
    "        self.llik_scaling = llik_scaling\n",
    "        self.batch_size = batch_size\n",
    "        self.epochs = epochs\n",
    "        self.n_centroids = n_centroids\n",
    "        self.latent_dim = latent_dim\n",
    "        self.num_hidden_layers = num_hidden_layers\n",
    "        self.hidden_dim = hidden_dim\n",
    "        self.learn_prior = learn_prior\n",
    "        self.logp = logp\n",
    "        self.print_freq = print_freq\n",
    "        self.no_analytics = no_analytics\n",
    "        self.seed = seed\n",
    "        self.dataSize = dataSize\n",
    "        self.r_dim = r_dim\n",
    "        self.a_dim = a_dim\n",
    "        \n",
    "args = params(experiment,\n",
    "                model,\n",
    "                 obj,\n",
    "                 K,\n",
    "                 looser,\n",
    "                 llik_scaling,\n",
    "                 batch_size,\n",
    "                 epochs,\n",
    "                 n_centroids,\n",
    "                 latent_dim,\n",
    "                 num_hidden_layers,\n",
    "                 hidden_dim,\n",
    "                 learn_prior,\n",
    "                 logp,\n",
    "                 print_freq,\n",
    "                 no_analytics,\n",
    "                 seed,\n",
    "                 dataSize,\n",
    "                 r_dim,\n",
    "                 a_dim)"
   ]
  },
  {
   "cell_type": "code",
   "execution_count": 3,
   "metadata": {},
   "outputs": [],
   "source": [
    "# random seed\n",
    "# https://pytorch.org/docs/stable/notes/randomness.html\n",
    "torch.backends.cudnn.benchmark = True\n",
    "torch.manual_seed(args.seed)\n",
    "np.random.seed(args.seed)\n",
    "\n",
    "device = torch.device('cpu')"
   ]
  },
  {
   "cell_type": "code",
   "execution_count": 12,
   "metadata": {},
   "outputs": [],
   "source": [
    "dataset_path = '../data/sci-CAR'\n",
    "#dataset_path = '../data/Paired-seq/processed_adult'\n",
    "#dataset_path = '../data/SNARE-seq/adult'\n",
    "r_dataset = torch.load(dataset_path + '/r_dataset.rar')\n",
    "a_dataset = torch.load(dataset_path + '/a_dataset.rar')\n",
    "train_dataset = torch.load(dataset_path + '/train_dataset.rar')\n",
    "test_dataset = torch.load(dataset_path + '/test_dataset.rar')\n",
    "\n",
    "#a_dataset = torch.load(dataset_path + 'a_dataset_2.rar') filtered under 10 after binarize\n",
    "#a_dataset = torch.load(dataset_path + 'a_dataset_mxabsscale.rar')\n",
    "datasets = [r_dataset, a_dataset]\n",
    "\"\"\"#num = 5000\n",
    "r_dataset = Subset(r_dataset, list(range(25845,41036)))\n",
    "a_dataset = Subset(a_dataset, list(range(25845,41036)))\n",
    "#r_dataset = Subset(r_dataset, list(range(25845,25845+num)))\n",
    "#a_dataset = Subset(a_dataset, list(range(25845,25845+num)))\n",
    "train_dataset= TensorDataset([\n",
    "    r_dataset,\n",
    "    a_dataset\n",
    "    ])\n",
    "train_loader = DataLoader(train_dataset, batch_size=args.batch_size)\n",
    "r_dataset = a_dataset = train_dataset = None\"\"\"\n",
    "args.r_dim = r_dataset.data.shape[1]\n",
    "args.a_dim = a_dataset.data.shape[1]"
   ]
  },
  {
   "cell_type": "code",
   "execution_count": 13,
   "metadata": {},
   "outputs": [
    {
     "data": {
      "text/plain": [
       "'\"num_cell = r_dataset.data.shape[0]\\nt_size = np.round(num_cell*0.75).astype(\\'int\\')\\nt_id = np.random.choice(a=num_cell, size=t_size, replace=False)\\ns_id = np.delete(range(num_cell),t_id)\\n\\ntrain_dataset = [Subset(r_dataset, t_id), Subset(a_dataset, t_id)]\\ntest_dataset = [Subset(r_dataset, s_id), Subset(a_dataset, s_id)]'"
      ]
     },
     "execution_count": 13,
     "metadata": {},
     "output_type": "execute_result"
    }
   ],
   "source": [
    "\"\"\"\"num_cell = r_dataset.data.shape[0]\n",
    "t_size = np.round(num_cell*0.75).astype('int')\n",
    "t_id = np.random.choice(a=num_cell, size=t_size, replace=False)\n",
    "s_id = np.delete(range(num_cell),t_id)\n",
    "\n",
    "train_dataset = [Subset(r_dataset, t_id), Subset(a_dataset, t_id)]\n",
    "test_dataset = [Subset(r_dataset, s_id), Subset(a_dataset, s_id)]\"\"\""
   ]
  },
  {
   "cell_type": "code",
   "execution_count": 14,
   "metadata": {},
   "outputs": [],
   "source": [
    "# load model\n",
    "modelC = getattr(models, 'VAE_{}'.format(args.model))\n",
    "model = modelC(args).to(device)"
   ]
  },
  {
   "cell_type": "code",
   "execution_count": 15,
   "metadata": {},
   "outputs": [],
   "source": [
    "#train_loader = model.getDataLoaders(datasets=datasets, batch_size=args.batch_size, device=device)"
   ]
  },
  {
   "cell_type": "code",
   "execution_count": 16,
   "metadata": {},
   "outputs": [],
   "source": [
    "train_loader = model.getDataLoaders(datasets=train_dataset, batch_size=args.batch_size, device=device)"
   ]
  },
  {
   "cell_type": "code",
   "execution_count": 17,
   "metadata": {},
   "outputs": [],
   "source": [
    "test_loader = model.getDataLoaders(datasets=test_dataset, batch_size=args.batch_size, device=device)"
   ]
  },
  {
   "cell_type": "code",
   "execution_count": 18,
   "metadata": {},
   "outputs": [
    {
     "name": "stdout",
     "output_type": "stream",
     "text": [
      "Loading model rna-atac from ../experiments/test/2020-06-01T01:10:50.252071z_p4ij8e\n"
     ]
    },
    {
     "ename": "RuntimeError",
     "evalue": "Error(s) in loading state_dict for RNA_ATAC:\n\tsize mismatch for vaes.0.enc.enc.0.0.weight: copying a param with shape torch.Size([128, 4835]) from checkpoint, the shape in current model is torch.Size([1024, 4835]).\n\tsize mismatch for vaes.0.enc.enc.0.0.bias: copying a param with shape torch.Size([128]) from checkpoint, the shape in current model is torch.Size([1024]).\n\tsize mismatch for vaes.0.enc.enc.0.1.weight: copying a param with shape torch.Size([128]) from checkpoint, the shape in current model is torch.Size([1024]).\n\tsize mismatch for vaes.0.enc.enc.0.1.bias: copying a param with shape torch.Size([128]) from checkpoint, the shape in current model is torch.Size([1024]).\n\tsize mismatch for vaes.0.enc.enc.0.1.running_mean: copying a param with shape torch.Size([128]) from checkpoint, the shape in current model is torch.Size([1024]).\n\tsize mismatch for vaes.0.enc.enc.0.1.running_var: copying a param with shape torch.Size([128]) from checkpoint, the shape in current model is torch.Size([1024]).\n\tsize mismatch for vaes.0.enc.enc.1.0.weight: copying a param with shape torch.Size([128, 128]) from checkpoint, the shape in current model is torch.Size([1024, 1024]).\n\tsize mismatch for vaes.0.enc.enc.1.0.bias: copying a param with shape torch.Size([128]) from checkpoint, the shape in current model is torch.Size([1024]).\n\tsize mismatch for vaes.0.enc.enc.1.1.weight: copying a param with shape torch.Size([128]) from checkpoint, the shape in current model is torch.Size([1024]).\n\tsize mismatch for vaes.0.enc.enc.1.1.bias: copying a param with shape torch.Size([128]) from checkpoint, the shape in current model is torch.Size([1024]).\n\tsize mismatch for vaes.0.enc.enc.1.1.running_mean: copying a param with shape torch.Size([128]) from checkpoint, the shape in current model is torch.Size([1024]).\n\tsize mismatch for vaes.0.enc.enc.1.1.running_var: copying a param with shape torch.Size([128]) from checkpoint, the shape in current model is torch.Size([1024]).\n\tsize mismatch for vaes.0.enc.fc21.weight: copying a param with shape torch.Size([10, 128]) from checkpoint, the shape in current model is torch.Size([20, 1024]).\n\tsize mismatch for vaes.0.enc.fc21.bias: copying a param with shape torch.Size([10]) from checkpoint, the shape in current model is torch.Size([20]).\n\tsize mismatch for vaes.0.enc.fc22.weight: copying a param with shape torch.Size([10, 128]) from checkpoint, the shape in current model is torch.Size([20, 1024]).\n\tsize mismatch for vaes.0.enc.fc22.bias: copying a param with shape torch.Size([10]) from checkpoint, the shape in current model is torch.Size([20]).\n\tsize mismatch for vaes.0.dec.dec.0.0.weight: copying a param with shape torch.Size([128, 10]) from checkpoint, the shape in current model is torch.Size([1024, 20]).\n\tsize mismatch for vaes.0.dec.dec.0.0.bias: copying a param with shape torch.Size([128]) from checkpoint, the shape in current model is torch.Size([1024]).\n\tsize mismatch for vaes.0.dec.dec.0.1.weight: copying a param with shape torch.Size([128]) from checkpoint, the shape in current model is torch.Size([1024]).\n\tsize mismatch for vaes.0.dec.dec.0.1.bias: copying a param with shape torch.Size([128]) from checkpoint, the shape in current model is torch.Size([1024]).\n\tsize mismatch for vaes.0.dec.dec.0.1.running_mean: copying a param with shape torch.Size([128]) from checkpoint, the shape in current model is torch.Size([1024]).\n\tsize mismatch for vaes.0.dec.dec.0.1.running_var: copying a param with shape torch.Size([128]) from checkpoint, the shape in current model is torch.Size([1024]).\n\tsize mismatch for vaes.0.dec.dec.1.0.weight: copying a param with shape torch.Size([128, 128]) from checkpoint, the shape in current model is torch.Size([1024, 1024]).\n\tsize mismatch for vaes.0.dec.dec.1.0.bias: copying a param with shape torch.Size([128]) from checkpoint, the shape in current model is torch.Size([1024]).\n\tsize mismatch for vaes.0.dec.dec.1.1.weight: copying a param with shape torch.Size([128]) from checkpoint, the shape in current model is torch.Size([1024]).\n\tsize mismatch for vaes.0.dec.dec.1.1.bias: copying a param with shape torch.Size([128]) from checkpoint, the shape in current model is torch.Size([1024]).\n\tsize mismatch for vaes.0.dec.dec.1.1.running_mean: copying a param with shape torch.Size([128]) from checkpoint, the shape in current model is torch.Size([1024]).\n\tsize mismatch for vaes.0.dec.dec.1.1.running_var: copying a param with shape torch.Size([128]) from checkpoint, the shape in current model is torch.Size([1024]).\n\tsize mismatch for vaes.0.dec.fc31.weight: copying a param with shape torch.Size([4835, 128]) from checkpoint, the shape in current model is torch.Size([4835, 1024]).\n\tsize mismatch for vaes.0.dec.fc32.weight: copying a param with shape torch.Size([4835, 128]) from checkpoint, the shape in current model is torch.Size([4835, 1024]).\n\tsize mismatch for vaes.0._pz_params.0: copying a param with shape torch.Size([15]) from checkpoint, the shape in current model is torch.Size([20]).\n\tsize mismatch for vaes.0._pz_params.1: copying a param with shape torch.Size([10, 15]) from checkpoint, the shape in current model is torch.Size([20, 20]).\n\tsize mismatch for vaes.0._pz_params.2: copying a param with shape torch.Size([10, 15]) from checkpoint, the shape in current model is torch.Size([20, 20]).\n\tsize mismatch for vaes.1.pi: copying a param with shape torch.Size([15]) from checkpoint, the shape in current model is torch.Size([20]).\n\tsize mismatch for vaes.1.mu_c: copying a param with shape torch.Size([10, 15]) from checkpoint, the shape in current model is torch.Size([20, 20]).\n\tsize mismatch for vaes.1.var_c: copying a param with shape torch.Size([10, 15]) from checkpoint, the shape in current model is torch.Size([20, 20]).\n\tsize mismatch for vaes.1.enc.enc.0.0.weight: copying a param with shape torch.Size([128, 87494]) from checkpoint, the shape in current model is torch.Size([1024, 87494]).\n\tsize mismatch for vaes.1.enc.enc.0.0.bias: copying a param with shape torch.Size([128]) from checkpoint, the shape in current model is torch.Size([1024]).\n\tsize mismatch for vaes.1.enc.enc.0.1.weight: copying a param with shape torch.Size([128]) from checkpoint, the shape in current model is torch.Size([1024]).\n\tsize mismatch for vaes.1.enc.enc.0.1.bias: copying a param with shape torch.Size([128]) from checkpoint, the shape in current model is torch.Size([1024]).\n\tsize mismatch for vaes.1.enc.enc.0.1.running_mean: copying a param with shape torch.Size([128]) from checkpoint, the shape in current model is torch.Size([1024]).\n\tsize mismatch for vaes.1.enc.enc.0.1.running_var: copying a param with shape torch.Size([128]) from checkpoint, the shape in current model is torch.Size([1024]).\n\tsize mismatch for vaes.1.enc.enc.1.0.weight: copying a param with shape torch.Size([128, 128]) from checkpoint, the shape in current model is torch.Size([1024, 1024]).\n\tsize mismatch for vaes.1.enc.enc.1.0.bias: copying a param with shape torch.Size([128]) from checkpoint, the shape in current model is torch.Size([1024]).\n\tsize mismatch for vaes.1.enc.enc.1.1.weight: copying a param with shape torch.Size([128]) from checkpoint, the shape in current model is torch.Size([1024]).\n\tsize mismatch for vaes.1.enc.enc.1.1.bias: copying a param with shape torch.Size([128]) from checkpoint, the shape in current model is torch.Size([1024]).\n\tsize mismatch for vaes.1.enc.enc.1.1.running_mean: copying a param with shape torch.Size([128]) from checkpoint, the shape in current model is torch.Size([1024]).\n\tsize mismatch for vaes.1.enc.enc.1.1.running_var: copying a param with shape torch.Size([128]) from checkpoint, the shape in current model is torch.Size([1024]).\n\tsize mismatch for vaes.1.enc.fc21.weight: copying a param with shape torch.Size([10, 128]) from checkpoint, the shape in current model is torch.Size([20, 1024]).\n\tsize mismatch for vaes.1.enc.fc21.bias: copying a param with shape torch.Size([10]) from checkpoint, the shape in current model is torch.Size([20]).\n\tsize mismatch for vaes.1.enc.fc22.weight: copying a param with shape torch.Size([10, 128]) from checkpoint, the shape in current model is torch.Size([20, 1024]).\n\tsize mismatch for vaes.1.enc.fc22.bias: copying a param with shape torch.Size([10]) from checkpoint, the shape in current model is torch.Size([20]).\n\tsize mismatch for vaes.1.dec.dec.0.0.weight: copying a param with shape torch.Size([128, 10]) from checkpoint, the shape in current model is torch.Size([1024, 20]).\n\tsize mismatch for vaes.1.dec.dec.0.0.bias: copying a param with shape torch.Size([128]) from checkpoint, the shape in current model is torch.Size([1024]).\n\tsize mismatch for vaes.1.dec.dec.0.1.weight: copying a param with shape torch.Size([128]) from checkpoint, the shape in current model is torch.Size([1024]).\n\tsize mismatch for vaes.1.dec.dec.0.1.bias: copying a param with shape torch.Size([128]) from checkpoint, the shape in current model is torch.Size([1024]).\n\tsize mismatch for vaes.1.dec.dec.0.1.running_mean: copying a param with shape torch.Size([128]) from checkpoint, the shape in current model is torch.Size([1024]).\n\tsize mismatch for vaes.1.dec.dec.0.1.running_var: copying a param with shape torch.Size([128]) from checkpoint, the shape in current model is torch.Size([1024]).\n\tsize mismatch for vaes.1.dec.dec.1.0.weight: copying a param with shape torch.Size([128, 128]) from checkpoint, the shape in current model is torch.Size([1024, 1024]).\n\tsize mismatch for vaes.1.dec.dec.1.0.bias: copying a param with shape torch.Size([128]) from checkpoint, the shape in current model is torch.Size([1024]).\n\tsize mismatch for vaes.1.dec.dec.1.1.weight: copying a param with shape torch.Size([128]) from checkpoint, the shape in current model is torch.Size([1024]).\n\tsize mismatch for vaes.1.dec.dec.1.1.bias: copying a param with shape torch.Size([128]) from checkpoint, the shape in current model is torch.Size([1024]).\n\tsize mismatch for vaes.1.dec.dec.1.1.running_mean: copying a param with shape torch.Size([128]) from checkpoint, the shape in current model is torch.Size([1024]).\n\tsize mismatch for vaes.1.dec.dec.1.1.running_var: copying a param with shape torch.Size([128]) from checkpoint, the shape in current model is torch.Size([1024]).\n\tsize mismatch for vaes.1.dec.fc3.weight: copying a param with shape torch.Size([87494, 128]) from checkpoint, the shape in current model is torch.Size([87494, 1024]).\n\tsize mismatch for vaes.1._pz_params.0: copying a param with shape torch.Size([15]) from checkpoint, the shape in current model is torch.Size([20]).\n\tsize mismatch for vaes.1._pz_params.1: copying a param with shape torch.Size([10, 15]) from checkpoint, the shape in current model is torch.Size([20, 20]).\n\tsize mismatch for vaes.1._pz_params.2: copying a param with shape torch.Size([10, 15]) from checkpoint, the shape in current model is torch.Size([20, 20]).\n\tsize mismatch for _pz_params.0: copying a param with shape torch.Size([15]) from checkpoint, the shape in current model is torch.Size([20]).\n\tsize mismatch for _pz_params.1: copying a param with shape torch.Size([10, 15]) from checkpoint, the shape in current model is torch.Size([20, 20]).\n\tsize mismatch for _pz_params.2: copying a param with shape torch.Size([10, 15]) from checkpoint, the shape in current model is torch.Size([20, 20]).",
     "output_type": "error",
     "traceback": [
      "\u001b[0;31m---------------------------------------------------------------------------\u001b[0m",
      "\u001b[0;31mRuntimeError\u001b[0m                              Traceback (most recent call last)",
      "\u001b[0;32m<ipython-input-18-ffb618a82d79>\u001b[0m in \u001b[0;36m<module>\u001b[0;34m\u001b[0m\n\u001b[1;32m      6\u001b[0m \u001b[0mprint\u001b[0m\u001b[0;34m(\u001b[0m\u001b[0;34m'Loading model {} from {}'\u001b[0m\u001b[0;34m.\u001b[0m\u001b[0mformat\u001b[0m\u001b[0;34m(\u001b[0m\u001b[0mmodel\u001b[0m\u001b[0;34m.\u001b[0m\u001b[0mmodelName\u001b[0m\u001b[0;34m,\u001b[0m \u001b[0mpretrained_path\u001b[0m\u001b[0;34m)\u001b[0m\u001b[0;34m)\u001b[0m\u001b[0;34m\u001b[0m\u001b[0;34m\u001b[0m\u001b[0m\n\u001b[1;32m      7\u001b[0m \u001b[0;34m\u001b[0m\u001b[0m\n\u001b[0;32m----> 8\u001b[0;31m \u001b[0mmodel\u001b[0m\u001b[0;34m.\u001b[0m\u001b[0mload_state_dict\u001b[0m\u001b[0;34m(\u001b[0m\u001b[0mtorch\u001b[0m\u001b[0;34m.\u001b[0m\u001b[0mload\u001b[0m\u001b[0;34m(\u001b[0m\u001b[0mpretrained_path\u001b[0m \u001b[0;34m+\u001b[0m \u001b[0;34m'/model.rar'\u001b[0m\u001b[0;34m,\u001b[0m \u001b[0mmap_location\u001b[0m\u001b[0;34m=\u001b[0m\u001b[0mtorch\u001b[0m\u001b[0;34m.\u001b[0m\u001b[0mdevice\u001b[0m\u001b[0;34m(\u001b[0m\u001b[0;34m'cpu'\u001b[0m\u001b[0;34m)\u001b[0m \u001b[0;34m)\u001b[0m\u001b[0;34m)\u001b[0m\u001b[0;34m\u001b[0m\u001b[0;34m\u001b[0m\u001b[0m\n\u001b[0m\u001b[1;32m      9\u001b[0m \u001b[0mmodel\u001b[0m\u001b[0;34m.\u001b[0m\u001b[0m_pz_params\u001b[0m \u001b[0;34m=\u001b[0m \u001b[0mmodel\u001b[0m\u001b[0;34m.\u001b[0m\u001b[0m_pz_params\u001b[0m\u001b[0;34m\u001b[0m\u001b[0;34m\u001b[0m\u001b[0m\n\u001b[1;32m     10\u001b[0m \u001b[0;34m\u001b[0m\u001b[0m\n",
      "\u001b[0;32m~/proj/multimodal/venv/lib/python3.7/site-packages/torch/nn/modules/module.py\u001b[0m in \u001b[0;36mload_state_dict\u001b[0;34m(self, state_dict, strict)\u001b[0m\n\u001b[1;32m    845\u001b[0m         \u001b[0;32mif\u001b[0m \u001b[0mlen\u001b[0m\u001b[0;34m(\u001b[0m\u001b[0merror_msgs\u001b[0m\u001b[0;34m)\u001b[0m \u001b[0;34m>\u001b[0m \u001b[0;36m0\u001b[0m\u001b[0;34m:\u001b[0m\u001b[0;34m\u001b[0m\u001b[0;34m\u001b[0m\u001b[0m\n\u001b[1;32m    846\u001b[0m             raise RuntimeError('Error(s) in loading state_dict for {}:\\n\\t{}'.format(\n\u001b[0;32m--> 847\u001b[0;31m                                self.__class__.__name__, \"\\n\\t\".join(error_msgs)))\n\u001b[0m\u001b[1;32m    848\u001b[0m         \u001b[0;32mreturn\u001b[0m \u001b[0m_IncompatibleKeys\u001b[0m\u001b[0;34m(\u001b[0m\u001b[0mmissing_keys\u001b[0m\u001b[0;34m,\u001b[0m \u001b[0munexpected_keys\u001b[0m\u001b[0;34m)\u001b[0m\u001b[0;34m\u001b[0m\u001b[0;34m\u001b[0m\u001b[0m\n\u001b[1;32m    849\u001b[0m \u001b[0;34m\u001b[0m\u001b[0m\n",
      "\u001b[0;31mRuntimeError\u001b[0m: Error(s) in loading state_dict for RNA_ATAC:\n\tsize mismatch for vaes.0.enc.enc.0.0.weight: copying a param with shape torch.Size([128, 4835]) from checkpoint, the shape in current model is torch.Size([1024, 4835]).\n\tsize mismatch for vaes.0.enc.enc.0.0.bias: copying a param with shape torch.Size([128]) from checkpoint, the shape in current model is torch.Size([1024]).\n\tsize mismatch for vaes.0.enc.enc.0.1.weight: copying a param with shape torch.Size([128]) from checkpoint, the shape in current model is torch.Size([1024]).\n\tsize mismatch for vaes.0.enc.enc.0.1.bias: copying a param with shape torch.Size([128]) from checkpoint, the shape in current model is torch.Size([1024]).\n\tsize mismatch for vaes.0.enc.enc.0.1.running_mean: copying a param with shape torch.Size([128]) from checkpoint, the shape in current model is torch.Size([1024]).\n\tsize mismatch for vaes.0.enc.enc.0.1.running_var: copying a param with shape torch.Size([128]) from checkpoint, the shape in current model is torch.Size([1024]).\n\tsize mismatch for vaes.0.enc.enc.1.0.weight: copying a param with shape torch.Size([128, 128]) from checkpoint, the shape in current model is torch.Size([1024, 1024]).\n\tsize mismatch for vaes.0.enc.enc.1.0.bias: copying a param with shape torch.Size([128]) from checkpoint, the shape in current model is torch.Size([1024]).\n\tsize mismatch for vaes.0.enc.enc.1.1.weight: copying a param with shape torch.Size([128]) from checkpoint, the shape in current model is torch.Size([1024]).\n\tsize mismatch for vaes.0.enc.enc.1.1.bias: copying a param with shape torch.Size([128]) from checkpoint, the shape in current model is torch.Size([1024]).\n\tsize mismatch for vaes.0.enc.enc.1.1.running_mean: copying a param with shape torch.Size([128]) from checkpoint, the shape in current model is torch.Size([1024]).\n\tsize mismatch for vaes.0.enc.enc.1.1.running_var: copying a param with shape torch.Size([128]) from checkpoint, the shape in current model is torch.Size([1024]).\n\tsize mismatch for vaes.0.enc.fc21.weight: copying a param with shape torch.Size([10, 128]) from checkpoint, the shape in current model is torch.Size([20, 1024]).\n\tsize mismatch for vaes.0.enc.fc21.bias: copying a param with shape torch.Size([10]) from checkpoint, the shape in current model is torch.Size([20]).\n\tsize mismatch for vaes.0.enc.fc22.weight: copying a param with shape torch.Size([10, 128]) from checkpoint, the shape in current model is torch.Size([20, 1024]).\n\tsize mismatch for vaes.0.enc.fc22.bias: copying a param with shape torch.Size([10]) from checkpoint, the shape in current model is torch.Size([20]).\n\tsize mismatch for vaes.0.dec.dec.0.0.weight: copying a param with shape torch.Size([128, 10]) from checkpoint, the shape in current model is torch.Size([1024, 20]).\n\tsize mismatch for vaes.0.dec.dec.0.0.bias: copying a param with shape torch.Size([128]) from checkpoint, the shape in current model is torch.Size([1024]).\n\tsize mismatch for vaes.0.dec.dec.0.1.weight: copying a param with shape torch.Size([128]) from checkpoint, the shape in current model is torch.Size([1024]).\n\tsize mismatch for vaes.0.dec.dec.0.1.bias: copying a param with shape torch.Size([128]) from checkpoint, the shape in current model is torch.Size([1024]).\n\tsize mismatch for vaes.0.dec.dec.0.1.running_mean: copying a param with shape torch.Size([128]) from checkpoint, the shape in current model is torch.Size([1024]).\n\tsize mismatch for vaes.0.dec.dec.0.1.running_var: copying a param with shape torch.Size([128]) from checkpoint, the shape in current model is torch.Size([1024]).\n\tsize mismatch for vaes.0.dec.dec.1.0.weight: copying a param with shape torch.Size([128, 128]) from checkpoint, the shape in current model is torch.Size([1024, 1024]).\n\tsize mismatch for vaes.0.dec.dec.1.0.bias: copying a param with shape torch.Size([128]) from checkpoint, the shape in current model is torch.Size([1024]).\n\tsize mismatch for vaes.0.dec.dec.1.1.weight: copying a param with shape torch.Size([128]) from checkpoint, the shape in current model is torch.Size([1024]).\n\tsize mismatch for vaes.0.dec.dec.1.1.bias: copying a param with shape torch.Size([128]) from checkpoint, the shape in current model is torch.Size([1024]).\n\tsize mismatch for vaes.0.dec.dec.1.1.running_mean: copying a param with shape torch.Size([128]) from checkpoint, the shape in current model is torch.Size([1024]).\n\tsize mismatch for vaes.0.dec.dec.1.1.running_var: copying a param with shape torch.Size([128]) from checkpoint, the shape in current model is torch.Size([1024]).\n\tsize mismatch for vaes.0.dec.fc31.weight: copying a param with shape torch.Size([4835, 128]) from checkpoint, the shape in current model is torch.Size([4835, 1024]).\n\tsize mismatch for vaes.0.dec.fc32.weight: copying a param with shape torch.Size([4835, 128]) from checkpoint, the shape in current model is torch.Size([4835, 1024]).\n\tsize mismatch for vaes.0._pz_params.0: copying a param with shape torch.Size([15]) from checkpoint, the shape in current model is torch.Size([20]).\n\tsize mismatch for vaes.0._pz_params.1: copying a param with shape torch.Size([10, 15]) from checkpoint, the shape in current model is torch.Size([20, 20]).\n\tsize mismatch for vaes.0._pz_params.2: copying a param with shape torch.Size([10, 15]) from checkpoint, the shape in current model is torch.Size([20, 20]).\n\tsize mismatch for vaes.1.pi: copying a param with shape torch.Size([15]) from checkpoint, the shape in current model is torch.Size([20]).\n\tsize mismatch for vaes.1.mu_c: copying a param with shape torch.Size([10, 15]) from checkpoint, the shape in current model is torch.Size([20, 20]).\n\tsize mismatch for vaes.1.var_c: copying a param with shape torch.Size([10, 15]) from checkpoint, the shape in current model is torch.Size([20, 20]).\n\tsize mismatch for vaes.1.enc.enc.0.0.weight: copying a param with shape torch.Size([128, 87494]) from checkpoint, the shape in current model is torch.Size([1024, 87494]).\n\tsize mismatch for vaes.1.enc.enc.0.0.bias: copying a param with shape torch.Size([128]) from checkpoint, the shape in current model is torch.Size([1024]).\n\tsize mismatch for vaes.1.enc.enc.0.1.weight: copying a param with shape torch.Size([128]) from checkpoint, the shape in current model is torch.Size([1024]).\n\tsize mismatch for vaes.1.enc.enc.0.1.bias: copying a param with shape torch.Size([128]) from checkpoint, the shape in current model is torch.Size([1024]).\n\tsize mismatch for vaes.1.enc.enc.0.1.running_mean: copying a param with shape torch.Size([128]) from checkpoint, the shape in current model is torch.Size([1024]).\n\tsize mismatch for vaes.1.enc.enc.0.1.running_var: copying a param with shape torch.Size([128]) from checkpoint, the shape in current model is torch.Size([1024]).\n\tsize mismatch for vaes.1.enc.enc.1.0.weight: copying a param with shape torch.Size([128, 128]) from checkpoint, the shape in current model is torch.Size([1024, 1024]).\n\tsize mismatch for vaes.1.enc.enc.1.0.bias: copying a param with shape torch.Size([128]) from checkpoint, the shape in current model is torch.Size([1024]).\n\tsize mismatch for vaes.1.enc.enc.1.1.weight: copying a param with shape torch.Size([128]) from checkpoint, the shape in current model is torch.Size([1024]).\n\tsize mismatch for vaes.1.enc.enc.1.1.bias: copying a param with shape torch.Size([128]) from checkpoint, the shape in current model is torch.Size([1024]).\n\tsize mismatch for vaes.1.enc.enc.1.1.running_mean: copying a param with shape torch.Size([128]) from checkpoint, the shape in current model is torch.Size([1024]).\n\tsize mismatch for vaes.1.enc.enc.1.1.running_var: copying a param with shape torch.Size([128]) from checkpoint, the shape in current model is torch.Size([1024]).\n\tsize mismatch for vaes.1.enc.fc21.weight: copying a param with shape torch.Size([10, 128]) from checkpoint, the shape in current model is torch.Size([20, 1024]).\n\tsize mismatch for vaes.1.enc.fc21.bias: copying a param with shape torch.Size([10]) from checkpoint, the shape in current model is torch.Size([20]).\n\tsize mismatch for vaes.1.enc.fc22.weight: copying a param with shape torch.Size([10, 128]) from checkpoint, the shape in current model is torch.Size([20, 1024]).\n\tsize mismatch for vaes.1.enc.fc22.bias: copying a param with shape torch.Size([10]) from checkpoint, the shape in current model is torch.Size([20]).\n\tsize mismatch for vaes.1.dec.dec.0.0.weight: copying a param with shape torch.Size([128, 10]) from checkpoint, the shape in current model is torch.Size([1024, 20]).\n\tsize mismatch for vaes.1.dec.dec.0.0.bias: copying a param with shape torch.Size([128]) from checkpoint, the shape in current model is torch.Size([1024]).\n\tsize mismatch for vaes.1.dec.dec.0.1.weight: copying a param with shape torch.Size([128]) from checkpoint, the shape in current model is torch.Size([1024]).\n\tsize mismatch for vaes.1.dec.dec.0.1.bias: copying a param with shape torch.Size([128]) from checkpoint, the shape in current model is torch.Size([1024]).\n\tsize mismatch for vaes.1.dec.dec.0.1.running_mean: copying a param with shape torch.Size([128]) from checkpoint, the shape in current model is torch.Size([1024]).\n\tsize mismatch for vaes.1.dec.dec.0.1.running_var: copying a param with shape torch.Size([128]) from checkpoint, the shape in current model is torch.Size([1024]).\n\tsize mismatch for vaes.1.dec.dec.1.0.weight: copying a param with shape torch.Size([128, 128]) from checkpoint, the shape in current model is torch.Size([1024, 1024]).\n\tsize mismatch for vaes.1.dec.dec.1.0.bias: copying a param with shape torch.Size([128]) from checkpoint, the shape in current model is torch.Size([1024]).\n\tsize mismatch for vaes.1.dec.dec.1.1.weight: copying a param with shape torch.Size([128]) from checkpoint, the shape in current model is torch.Size([1024]).\n\tsize mismatch for vaes.1.dec.dec.1.1.bias: copying a param with shape torch.Size([128]) from checkpoint, the shape in current model is torch.Size([1024]).\n\tsize mismatch for vaes.1.dec.dec.1.1.running_mean: copying a param with shape torch.Size([128]) from checkpoint, the shape in current model is torch.Size([1024]).\n\tsize mismatch for vaes.1.dec.dec.1.1.running_var: copying a param with shape torch.Size([128]) from checkpoint, the shape in current model is torch.Size([1024]).\n\tsize mismatch for vaes.1.dec.fc3.weight: copying a param with shape torch.Size([87494, 128]) from checkpoint, the shape in current model is torch.Size([87494, 1024]).\n\tsize mismatch for vaes.1._pz_params.0: copying a param with shape torch.Size([15]) from checkpoint, the shape in current model is torch.Size([20]).\n\tsize mismatch for vaes.1._pz_params.1: copying a param with shape torch.Size([10, 15]) from checkpoint, the shape in current model is torch.Size([20, 20]).\n\tsize mismatch for vaes.1._pz_params.2: copying a param with shape torch.Size([10, 15]) from checkpoint, the shape in current model is torch.Size([20, 20]).\n\tsize mismatch for _pz_params.0: copying a param with shape torch.Size([15]) from checkpoint, the shape in current model is torch.Size([20]).\n\tsize mismatch for _pz_params.1: copying a param with shape torch.Size([10, 15]) from checkpoint, the shape in current model is torch.Size([20, 20]).\n\tsize mismatch for _pz_params.2: copying a param with shape torch.Size([10, 15]) from checkpoint, the shape in current model is torch.Size([20, 20])."
     ]
    }
   ],
   "source": [
    "#Select pretrained model\n",
    "runId = '2020-06-01T01/10/50.252071z_p4ij8e'\n",
    "runId = runId.replace(\"/\",\":\")\n",
    "pretrained_path = '../experiments/' + args.experiment + '/' + runId\n",
    "args = torch.load(pretrained_path + '/args.rar')"
   ]
  },
  {
   "cell_type": "code",
   "execution_count": null,
   "metadata": {},
   "outputs": [],
   "source": [
    "print('Loading model {} from {}'.format(model.modelName, pretrained_path))\n",
    "\n",
    "model.load_state_dict(torch.load(pretrained_path + '/model.rar', map_location=torch.device('cpu') ))\n",
    "model._pz_params = model._pz_params\n",
    "\n",
    "runPath = pretrained_path"
   ]
  },
  {
   "cell_type": "code",
   "execution_count": null,
   "metadata": {},
   "outputs": [],
   "source": [
    "losses = torch.load(pretrained_path + '/losses.rar', map_location=torch.device('cpu'))\n",
    "#print(losses['train_loss'])\n",
    "print(min(losses['train_loss']))"
   ]
  },
  {
   "cell_type": "code",
   "execution_count": null,
   "metadata": {},
   "outputs": [],
   "source": [
    "model._pz_params[0]/sum(model._pz_params[0])"
   ]
  },
  {
   "cell_type": "code",
   "execution_count": null,
   "metadata": {},
   "outputs": [],
   "source": [
    "#MMVAE get all data\n",
    "for i, d in enumerate(train_loader):\n",
    "    if i == 0:\n",
    "        data0 = d[0]\n",
    "        data1 = d[1]\n",
    "    else:\n",
    "        data0 = torch.cat([data0, d[0]], dim=0)\n",
    "        data1 = torch.cat([data1, d[1]], dim=0)\n",
    "data = [data0.to(device), data1.to(device)]"
   ]
  },
  {
   "cell_type": "code",
   "execution_count": null,
   "metadata": {
    "scrolled": true
   },
   "outputs": [],
   "source": [
    "#data0 = torch.tensor(train_loader.dataset.data[0].todense())\n",
    "#data1 = torch.tensor(train_loader.dataset.data[1].todense())\n",
    "#data = [data0.to(device), data1.to(device)]"
   ]
  },
  {
   "cell_type": "code",
   "execution_count": null,
   "metadata": {},
   "outputs": [],
   "source": [
    "#cluster = model.get_cluster(data)\n",
    "#cluster, kmeans = model.get_cluster(data, modality='rna', n_clusters=model.params.n_centroids,method='kmeans')\n",
    "cluster, kmeans = model.get_cluster(data, modality='rna', n_clusters=15,method='kmeans')\n",
    "#cluster = model.get_cluster(data, method='gmm')"
   ]
  },
  {
   "cell_type": "code",
   "execution_count": null,
   "metadata": {},
   "outputs": [],
   "source": [
    "pd_cluster = pd.DataFrame(cluster)\n",
    "pd_cluster.to_csv(runPath+'/cluster.csv')"
   ]
  },
  {
   "cell_type": "code",
   "execution_count": null,
   "metadata": {},
   "outputs": [],
   "source": [
    "model.visualize_latent(data, cluster, runPath, epoch=1, tsne=False, sampling=False)"
   ]
  },
  {
   "cell_type": "code",
   "execution_count": null,
   "metadata": {},
   "outputs": [],
   "source": [
    "model.reconstruct(data,runPath,epoch=1,sampling=True)"
   ]
  },
  {
   "cell_type": "code",
   "execution_count": null,
   "metadata": {},
   "outputs": [],
   "source": [
    "#cluster = model.get_cluster(data,method='kmeans')\n",
    "lats = model.latents(data, sampling=False)\n",
    "lat = sum(lats)/len(lats)\n",
    "cluster = kmeans.predict(lat)\n",
    "pd_cluster = pd.DataFrame(cluster)\n",
    "pd_cluster.to_csv(runPath+'/recon_cluster.csv')"
   ]
  },
  {
   "cell_type": "code",
   "execution_count": null,
   "metadata": {},
   "outputs": [],
   "source": [
    "sym_kld = model.symmetric_kld(qz_xs,K=1)"
   ]
  },
  {
   "cell_type": "code",
   "execution_count": null,
   "metadata": {},
   "outputs": [],
   "source": [
    "sym_kld[0].shape"
   ]
  },
  {
   "cell_type": "code",
   "execution_count": null,
   "metadata": {
    "scrolled": true
   },
   "outputs": [],
   "source": [
    "sym_kld[0]\n",
    "np.median(sym_kld[0], axis=0)"
   ]
  },
  {
   "cell_type": "code",
   "execution_count": null,
   "metadata": {},
   "outputs": [],
   "source": [
    "print(sym_kld[0].shape)\n",
    "#np.argsort(np.sum(sym_kld[0], axis=0))\n",
    "to_sort = np.median(sym_kld[0], axis=0)\n",
    "use_dim = np.argsort(to_sort)[range(15)]\n",
    "print(use_dim)"
   ]
  },
  {
   "cell_type": "code",
   "execution_count": null,
   "metadata": {},
   "outputs": [],
   "source": [
    "q_p_kld = model.q_p_kld(qz_xs,zss,K=1)"
   ]
  },
  {
   "cell_type": "code",
   "execution_count": null,
   "metadata": {},
   "outputs": [],
   "source": [
    "q_p_kld[0].shape"
   ]
  },
  {
   "cell_type": "code",
   "execution_count": null,
   "metadata": {},
   "outputs": [],
   "source": [
    "q_p_kld"
   ]
  },
  {
   "cell_type": "code",
   "execution_count": null,
   "metadata": {},
   "outputs": [],
   "source": [
    "df = model.klds_df(data)"
   ]
  },
  {
   "cell_type": "code",
   "execution_count": null,
   "metadata": {},
   "outputs": [],
   "source": [
    "df"
   ]
  },
  {
   "cell_type": "code",
   "execution_count": null,
   "metadata": {},
   "outputs": [],
   "source": [
    "model.plot_klds(data, runPath + '/klds.png')"
   ]
  },
  {
   "cell_type": "code",
   "execution_count": null,
   "metadata": {},
   "outputs": [],
   "source": []
  },
  {
   "cell_type": "code",
   "execution_count": null,
   "metadata": {},
   "outputs": [],
   "source": [
    "#cluster, kmeans = model.get_cluster(data, n_clusters=model.params.n_centroids,method='kmeans') use_dim加える？"
   ]
  },
  {
   "cell_type": "code",
   "execution_count": null,
   "metadata": {},
   "outputs": [],
   "source": [
    "#model.visualize_latent(data,  use_dim, cluster, runPath, epoch=2, tsne=False, sampling=False)"
   ]
  },
  {
   "cell_type": "code",
   "execution_count": null,
   "metadata": {},
   "outputs": [],
   "source": []
  },
  {
   "cell_type": "code",
   "execution_count": null,
   "metadata": {},
   "outputs": [],
   "source": [
    "#MMVAE get data for n mini batch\n",
    "n = 1\n",
    "for i, d in enumerate(train_loader):\n",
    "    if i == 0:\n",
    "        data0 = d[0]\n",
    "        data1 = d[1]\n",
    "    elif i < n:\n",
    "        data0 = torch.cat([data0, d[0]], dim=0)\n",
    "        data1 = torch.cat([data1, d[1]], dim=0)\n",
    "data = [data0.to(device), data1.to(device)]"
   ]
  },
  {
   "cell_type": "code",
   "execution_count": null,
   "metadata": {},
   "outputs": [],
   "source": [
    "model.histogram(data, runPath)"
   ]
  },
  {
   "cell_type": "code",
   "execution_count": null,
   "metadata": {},
   "outputs": [],
   "source": [
    "model.reconstruct(data,runPath,epoch=1,sampling=True)"
   ]
  },
  {
   "cell_type": "code",
   "execution_count": null,
   "metadata": {},
   "outputs": [],
   "source": [
    "#cluster = model.get_cluster(data,method='kmeans')\n",
    "lats = model.latents(data, sampling=False)\n",
    "lat = sum(lats)/len(lats)\n",
    "cluster = kmeans.predict(lat)\n",
    "pd_cluster = pd.DataFrame(cluster)\n",
    "pd_cluster.to_csv(runPath+'/recon_cluster.csv')"
   ]
  },
  {
   "cell_type": "code",
   "execution_count": null,
   "metadata": {},
   "outputs": [],
   "source": [
    "train_loader = model.getDataLoaders(datasets=datasets, batch_size=64, device=device)\n",
    "#MMVAE get data for n mini batch\n",
    "n = 1\n",
    "for i, d in enumerate(train_loader):\n",
    "    if i == 0:\n",
    "        data0 = d[0]\n",
    "        data1 = d[1]\n",
    "    elif i < n:\n",
    "        data0 = torch.cat([data0, d[0]], dim=0)\n",
    "        data1 = torch.cat([data1, d[1]], dim=0)\n",
    "data = [data0.to(device), data1.to(device)]"
   ]
  },
  {
   "cell_type": "code",
   "execution_count": null,
   "metadata": {},
   "outputs": [],
   "source": [
    "#testing m_elbo_naive_vade\n",
    "x = data\n",
    "qz_xs, px_zs, zss = model(x)\n",
    "n_centroids = model.params.n_centroids\n",
    "lpx_zs, klds = [], []"
   ]
  },
  {
   "cell_type": "code",
   "execution_count": null,
   "metadata": {},
   "outputs": [],
   "source": [
    "zss[0].shape"
   ]
  },
  {
   "cell_type": "code",
   "execution_count": null,
   "metadata": {},
   "outputs": [],
   "source": [
    "for r, qz_x in enumerate(qz_xs):\n",
    "    zs = zss[r]\n",
    "    kld = vade_kld(model, zs, r)\n",
    "    klds.append(kld)\n",
    "        \n",
    "    for d, px_z in enumerate(px_zs[r]):\n",
    "        lpx_z = px_z.log_prob(x[d]) * model.vaes[d].llik_scaling\n",
    "        #lpx_zs.append(lpx_z.view(*px_z.batch_shape[:2], -1).sum(-1).squeeze()) #added squeeze()\n",
    "        lpx_zs.append(lpx_z.sum(-1))\n",
    "#obj = (1 / len(model.vaes)) * (torch.stack(lpx_zs).sum(0) - torch.stack(klds).sum(0))\n",
    "obj = (1 / len(model.vaes)) * (torch.stack(lpx_zs).sum(0) - torch.stack(klds).sum(0))"
   ]
  },
  {
   "cell_type": "code",
   "execution_count": null,
   "metadata": {},
   "outputs": [],
   "source": [
    "print(lpx_zs[0][range(20)])\n",
    "print(lpx_zs[1][range(20)])\n",
    "print(lpx_zs[2][range(20)])\n",
    "print(lpx_zs[3][range(20)])\n",
    "print(len(lpx_zs[0]))"
   ]
  },
  {
   "cell_type": "code",
   "execution_count": null,
   "metadata": {},
   "outputs": [],
   "source": [
    "#obj.sum()/len(train_loader.dataset)\n",
    "obj.sum()/64"
   ]
  },
  {
   "cell_type": "code",
   "execution_count": null,
   "metadata": {
    "scrolled": false
   },
   "outputs": [],
   "source": [
    "klds"
   ]
  },
  {
   "cell_type": "code",
   "execution_count": null,
   "metadata": {},
   "outputs": [],
   "source": [
    "px_zs[0][0].mean"
   ]
  },
  {
   "cell_type": "code",
   "execution_count": null,
   "metadata": {},
   "outputs": [],
   "source": [
    "for r, qz_x in enumerate(qz_xs):\n",
    "    zs = zss[r]\n",
    "    #gamma, mu_c, var_c, pi = model.vaes[r].get_gamma(zs)\n",
    "    #gamma, mu_c, var_c, pi = model.get_gamma(zs)\n",
    "    gamma, lgamma, mu_c, var_c, pi = model.get_gamma(zs)\n",
    "        \n",
    "    #mu, logvar = model.vaes[r]._qz_x_params\n",
    "    mu, var = model.vaes[r]._qz_x_params\n",
    "    mu_expand = mu.unsqueeze(2).expand(mu.size(0), mu.size(1), n_centroids)\n",
    "    #logvar_expand = logvar.unsqueeze(2).expand(logvar.size(0), logvar.size(1), n_centroids)\n",
    "    var_expand = var.unsqueeze(2).expand(var.size(0), var.size(1), n_centroids)\n",
    "        \n",
    "     # log p(z|c)\n",
    "    #lpz_c = -0.5*torch.sum(gamma*torch.sum(math.log(2*math.pi) + \\\n",
    "    #                                       torch.log(var_c) + \\\n",
    "    #                                       torch.exp(logvar_expand)/var_c + \\\n",
    "    #                                       (mu_expand-mu_c)**2/var_c, dim=1), dim=1)\n",
    "    lpz_c = -0.5*torch.sum(gamma*torch.sum(math.log(2*math.pi) + \\\n",
    "                                           torch.log(var_c) + \\\n",
    "                                           var_expand/var_c + \\\n",
    "                                           (mu_expand-mu_c)**2/var_c, dim=1), dim=1)\n",
    "        # log p(c)\n",
    "    lpc = torch.sum(gamma*torch.log(pi), 1)\n",
    "        # log q(z|x)\n",
    "    #lqz_x = -0.5*torch.sum(1+logvar+math.log(2*math.pi), 1) #see VaDE paper\n",
    "    lqz_x = -0.5*torch.sum(1+torch.log(var)+math.log(2*math.pi), 1) #see VaDE paper\n",
    "        # log q(c|x)\n",
    "        #lqc_x = torch.sum(gamma*torch.log(gamma), 1)\n",
    "    lqc_x = torch.sum(gamma*(lgamma), 1)\n",
    "    \n",
    "    kld = -lpz_c - lpc + lqz_x + lqc_x \n",
    "        #kld = kl_divergence(qz_x, model.pz(*model.pz_params))\n",
    "    klds.append(kld)\n",
    "        \n",
    "    for d, px_z in enumerate(px_zs[r]):\n",
    "        lpx_z = px_z.log_prob(x[d]) * model.vaes[d].llik_scaling\n",
    "        #lpx_zs.append(lpx_z.view(*px_z.batch_shape[:2], -1).sum(-1).squeeze()) #added squeeze()\n",
    "        lpx_zs.append(lpx_z.sum(-1))\n",
    "#obj = (1 / len(model.vaes)) * (torch.stack(lpx_zs).sum(0) - torch.stack(klds).sum(0))\n",
    "obj = (1 / len(model.vaes)) * (torch.stack(lpx_zs).sum(0) - torch.stack(klds).sum(0))"
   ]
  },
  {
   "cell_type": "code",
   "execution_count": null,
   "metadata": {},
   "outputs": [],
   "source": [
    "klds"
   ]
  },
  {
   "cell_type": "code",
   "execution_count": null,
   "metadata": {},
   "outputs": [],
   "source": [
    "model._pz_params[0]\n",
    "pi_c =model._pz_params[0]/sum(model._pz_params[0])\n",
    "pi_c = pi_c.detach().numpy()"
   ]
  },
  {
   "cell_type": "code",
   "execution_count": null,
   "metadata": {},
   "outputs": [],
   "source": [
    "mu_c = model._pz_params[1]\n",
    "mu_c = mu_c.detach().numpy()\n",
    "mu_c.shape"
   ]
  },
  {
   "cell_type": "code",
   "execution_count": null,
   "metadata": {},
   "outputs": [],
   "source": [
    "var_c = model._pz_params[2]\n",
    "var_c = var_c.detach().numpy()\n",
    "var_c.shape"
   ]
  },
  {
   "cell_type": "code",
   "execution_count": null,
   "metadata": {
    "scrolled": true
   },
   "outputs": [],
   "source": [
    "mu = pi_c*mu_c\n",
    "mu = mu.sum(axis=1)\n",
    "mu.shape"
   ]
  },
  {
   "cell_type": "code",
   "execution_count": null,
   "metadata": {},
   "outputs": [],
   "source": [
    "mu_ = mu.repeat(mu_c.shape[1])\n",
    "mu_ = mu_.reshape(-1,mu_c.shape[1])\n",
    "mu_.shape"
   ]
  },
  {
   "cell_type": "code",
   "execution_count": null,
   "metadata": {},
   "outputs": [],
   "source": [
    "var = pi_c*(var_c + mu_c**2 + mu_**2)\n",
    "var = var.sum(axis=1)\n",
    "var"
   ]
  },
  {
   "cell_type": "code",
   "execution_count": null,
   "metadata": {},
   "outputs": [],
   "source": [
    "sd = sqrt(var)\n",
    "sd"
   ]
  },
  {
   "cell_type": "code",
   "execution_count": null,
   "metadata": {},
   "outputs": [],
   "source": [
    "strt = -5\n",
    "stp = 6\n",
    "\n",
    "for i in range(strt,stp):\n",
    "    adj_sd = sd * i\n",
    "    adj_mu = mu + adj_sd\n",
    "    if i  == -5:\n",
    "        adj = adj_mu\n",
    "    else:\n",
    "        adj = np.vstack([adj,adj_mu])\n",
    "#adj = adj.reshape(len(range(-5,6)),-1)\n",
    "adj.shape"
   ]
  },
  {
   "cell_type": "code",
   "execution_count": null,
   "metadata": {
    "scrolled": true
   },
   "outputs": [],
   "source": [
    "mu__ = np.tile(mu,(len(range(strt,stp)),1))\n",
    "mu__.shape"
   ]
  },
  {
   "cell_type": "code",
   "execution_count": null,
   "metadata": {},
   "outputs": [],
   "source": [
    "for i in range(len(mu)):\n",
    "    traverse = np.copy(mu__)\n",
    "    traverse[:,i] = np.copy(adj[:,i])\n",
    "    traverse = pd.DataFrame(traverse)\n",
    "    traverse.to_csv(runPath + '/traverse_dim{}.csv'.format(i+1))"
   ]
  },
  {
   "cell_type": "code",
   "execution_count": null,
   "metadata": {},
   "outputs": [],
   "source": [
    "for i in range(len(mu)):\n",
    "    zs = pd.read_csv(runPath + '/traverse_dim{}.csv'.format(i+1), header=0, index_col=0).values\n",
    "    zs = torch.from_numpy(zs.astype(np.float32))\n",
    "    px_zs = []\n",
    "    for m, vae in enumerate(model.vaes):\n",
    "        px_z = vae.px_z(*vae.dec(zs))\n",
    "        px_zs.append(px_z)  \n",
    "    #if i == 0:\n",
    "        #rna_traverse = np.copy(px_zs[0].mean.detach().numpy())\n",
    "        #atac_traverse = np.copy(px_zs[1].mean.detach().numpy())\n",
    "    rna_traverse = px_zs[0].mean.detach()\n",
    "    atac_traverse = px_zs[1].mean.detach()\n",
    "    #else:\n",
    "        #rna_traverse = np.vstack((rna_traverse, px_zs[0].mean.detach().numpy()))\n",
    "        #atac_traverse = np.vstack((atac_traverse, px_zs[1].mean.detach().numpy()))\n",
    "        #rna_traverse = torch.cat([rna_traverse,px_zs[0].mean.detach()],dim=0)\n",
    "        #atac_traverse = torch.cat([atac_traverse,px_zs[1].mean.detach()],dim=0)\n",
    "    rna_traverse = pd.DataFrame(rna_traverse.numpy())\n",
    "    rna_traverse.to_csv(runPath + '/rna_traverse_dim{}.csv'.format(i+1))\n",
    "    \n",
    "    atac_traverse = pd.DataFrame(atac_traverse.numpy())\n",
    "    atac_traverse.to_csv(runPath + '/atac_traverse_dim{}.csv'.format(i+1))\n",
    "        \n"
   ]
  },
  {
   "cell_type": "code",
   "execution_count": null,
   "metadata": {},
   "outputs": [],
   "source": [
    "rna_traverse"
   ]
  },
  {
   "cell_type": "code",
   "execution_count": null,
   "metadata": {},
   "outputs": [],
   "source": []
  },
  {
   "cell_type": "code",
   "execution_count": null,
   "metadata": {},
   "outputs": [],
   "source": []
  },
  {
   "cell_type": "code",
   "execution_count": null,
   "metadata": {},
   "outputs": [],
   "source": [
    "i = 10\n",
    "print(zss[0][i,:])\n",
    "print(zss[1][i,:])"
   ]
  },
  {
   "cell_type": "code",
   "execution_count": null,
   "metadata": {},
   "outputs": [],
   "source": [
    "model.vaes[0]._qz_x_params\n",
    "print(model.vaes[0]._qz_x_params[0][i,:])\n",
    "print(model.vaes[1]._qz_x_params[0][i,:])"
   ]
  },
  {
   "cell_type": "code",
   "execution_count": null,
   "metadata": {},
   "outputs": [],
   "source": [
    "model.vaes[0]._qz_x_params\n",
    "print(model.vaes[0]._qz_x_params[1][i,:])\n",
    "print(model.vaes[1]._qz_x_params[1][i,:])"
   ]
  },
  {
   "cell_type": "code",
   "execution_count": null,
   "metadata": {},
   "outputs": [],
   "source": [
    "rna = pd.read_csv(runPath + '/lat_emb_tsne_rna.csv', header=0, index_col=0)\n",
    "rna = rna.values\n",
    "print(rna.shape)"
   ]
  },
  {
   "cell_type": "code",
   "execution_count": null,
   "metadata": {},
   "outputs": [],
   "source": [
    "atac = pd.read_csv(runPath + '/lat_emb_tsne_atac.csv', header=0, index_col=0)\n",
    "atac = atac.values\n",
    "print(rna.shape)"
   ]
  },
  {
   "cell_type": "code",
   "execution_count": null,
   "metadata": {},
   "outputs": [],
   "source": [
    "_, _, zss = model(data)"
   ]
  },
  {
   "cell_type": "code",
   "execution_count": null,
   "metadata": {
    "scrolled": true
   },
   "outputs": [],
   "source": [
    "print(len(zss))\n",
    "print(zss[0].shape)"
   ]
  },
  {
   "cell_type": "code",
   "execution_count": null,
   "metadata": {},
   "outputs": [],
   "source": [
    "zs = zss[0]\n",
    "zs= zs.squeeze()"
   ]
  },
  {
   "cell_type": "code",
   "execution_count": null,
   "metadata": {
    "scrolled": true
   },
   "outputs": [],
   "source": [
    "zs"
   ]
  },
  {
   "cell_type": "code",
   "execution_count": null,
   "metadata": {
    "scrolled": true
   },
   "outputs": [],
   "source": [
    "gamma, _, _, pi = model.get_gamma(zs)\n",
    "print(pi)"
   ]
  },
  {
   "cell_type": "code",
   "execution_count": null,
   "metadata": {},
   "outputs": [],
   "source": [
    "model._pz_params[1]"
   ]
  },
  {
   "cell_type": "code",
   "execution_count": null,
   "metadata": {},
   "outputs": [],
   "source": [
    "gamma[0:10]"
   ]
  },
  {
   "cell_type": "code",
   "execution_count": null,
   "metadata": {},
   "outputs": [],
   "source": [
    "zs = sum(zss)/len(zss)\n",
    "zs.unsqueeze(2).shape"
   ]
  },
  {
   "cell_type": "code",
   "execution_count": null,
   "metadata": {},
   "outputs": [],
   "source": [
    "#rna\n",
    "zs = zss[0]\n",
    "#zs = zs.unsqueeze(0)\n",
    "zs.shape"
   ]
  },
  {
   "cell_type": "code",
   "execution_count": null,
   "metadata": {},
   "outputs": [],
   "source": [
    "model.mu_c.repeat(zs.size(0),1,1).shape"
   ]
  },
  {
   "cell_type": "code",
   "execution_count": null,
   "metadata": {},
   "outputs": [],
   "source": [
    "gmm = GaussianMixture(n_components=model.params.n_centroids, covariance_type='diag')\n",
    "gmm.weights_init = model.pi.detach().numpy()\n",
    "gmm.means_init = model.mu_c.T.detach().numpy()\n",
    "gmm.precisions_init = model.var_c.T.detach().numpy()\n",
    "gmm.fit(zs)"
   ]
  },
  {
   "cell_type": "code",
   "execution_count": null,
   "metadata": {},
   "outputs": [],
   "source": [
    "#gamma, _, _, _ = model.get_gamma(zs)\n",
    "n_centroids = model.params.n_centroids\n",
    "\n",
    "N = zs.size(1)\n",
    "#zs = zs.squeeze().unsqueeze(2).expand(zs.size(1), zs.size(2), n_centroids)\n",
    "zs = zs.unsqueeze(2)\n",
    "zs = zs.expand(zs.size(0), zs.size(1), n_centroids)\n",
    "pi = model.pi.repeat(N,1) # NxK\n",
    "mu_c = model.mu_c.repeat(N,1,1) # NxDxK\n",
    "var_c = model.var_c.repeat(N,1,1) # NxDxK"
   ]
  },
  {
   "cell_type": "code",
   "execution_count": null,
   "metadata": {},
   "outputs": [],
   "source": [
    "zs.shape"
   ]
  },
  {
   "cell_type": "code",
   "execution_count": null,
   "metadata": {},
   "outputs": [],
   "source": [
    "gamma[range(5)]"
   ]
  },
  {
   "cell_type": "code",
   "execution_count": null,
   "metadata": {},
   "outputs": [],
   "source": [
    "zs.squeeze()[range(5)]"
   ]
  },
  {
   "cell_type": "code",
   "execution_count": null,
   "metadata": {},
   "outputs": [],
   "source": [
    "rna_clust = gmm.predict(zs)\n",
    "print(rna_clust[range(100)])"
   ]
  },
  {
   "cell_type": "code",
   "execution_count": null,
   "metadata": {},
   "outputs": [],
   "source": [
    "gmm.weights_"
   ]
  },
  {
   "cell_type": "code",
   "execution_count": null,
   "metadata": {},
   "outputs": [],
   "source": [
    "plt.figure()\n",
    "plt.scatter(rna[:, 0], rna[:, 1], s=0.5, c=rna_clust)\n",
    "plt.savefig('{}/lat_tsne_rna_gmm.png'.format(runPath), dpi=1000)\n",
    "plt.close('all')"
   ]
  },
  {
   "cell_type": "code",
   "execution_count": null,
   "metadata": {},
   "outputs": [],
   "source": [
    "#atac\n",
    "zs = zss[1]\n",
    "zs = zs.unsqueeze(0)"
   ]
  },
  {
   "cell_type": "code",
   "execution_count": null,
   "metadata": {},
   "outputs": [],
   "source": [
    "gmm = GaussianMixture(n_components=model.params.n_centroids, covariance_type='diag', warm_start=True, max_iter=100)\n",
    "gmm.weights_init = model.pi.detach().numpy()\n",
    "gmm.means_init = model.mu_c.T.detach().numpy()\n",
    "gmm.covariances_init = model.var_c.T.detach().numpy()\n",
    "gmm.fit(zs)"
   ]
  },
  {
   "cell_type": "code",
   "execution_count": null,
   "metadata": {},
   "outputs": [],
   "source": [
    "gmm.weights_"
   ]
  },
  {
   "cell_type": "code",
   "execution_count": null,
   "metadata": {},
   "outputs": [],
   "source": [
    "atac_clust = gmm.predict(zs)\n",
    "print(atac_clust[range(100)])"
   ]
  },
  {
   "cell_type": "code",
   "execution_count": null,
   "metadata": {},
   "outputs": [],
   "source": [
    "plt.figure()\n",
    "plt.scatter(atac[:, 0], atac[:, 1], s=0.5, c=atac_clust)\n",
    "plt.savefig('{}/lat_tsne_atac_gmm.png'.format(runPath), dpi=1000)\n",
    "plt.close('all')"
   ]
  },
  {
   "cell_type": "code",
   "execution_count": null,
   "metadata": {},
   "outputs": [],
   "source": [
    "print(model.pi.shape)\n",
    "print(gmm.weights_.shape)"
   ]
  },
  {
   "cell_type": "code",
   "execution_count": null,
   "metadata": {},
   "outputs": [],
   "source": [
    "print(gmm.means_.shape)\n",
    "print(model.mu_c.T)"
   ]
  },
  {
   "cell_type": "code",
   "execution_count": null,
   "metadata": {},
   "outputs": [],
   "source": [
    "print(gmm.covariances_.shape)\n",
    "print(model.var_c.shape)"
   ]
  },
  {
   "cell_type": "code",
   "execution_count": null,
   "metadata": {},
   "outputs": [],
   "source": [
    " from sklearn.cluster import KMeans"
   ]
  },
  {
   "cell_type": "code",
   "execution_count": null,
   "metadata": {},
   "outputs": [],
   "source": [
    "kmeans = KMeans(n_clusters=model.params.n_centroids, random_state=0).fit(zs)"
   ]
  },
  {
   "cell_type": "code",
   "execution_count": null,
   "metadata": {},
   "outputs": [],
   "source": [
    "plt.figure()\n",
    "plt.scatter(rna[:, 0], rna[:, 1], s=0.5, c=kmeans.labels_)\n",
    "plt.savefig('{}/lat_tsne_rna_kmeans.png'.format(runPath), dpi=1000)\n",
    "plt.close('all')"
   ]
  },
  {
   "cell_type": "code",
   "execution_count": null,
   "metadata": {},
   "outputs": [],
   "source": [
    "#MMVAE get data for n mini batch\n",
    "n = 1\n",
    "for i, d in enumerate(train_loader):\n",
    "    if i == 0:\n",
    "        data0 = d[0]\n",
    "        data1 = d[1]\n",
    "    elif i < n:\n",
    "        data0 = torch.cat([data0, d[0]], dim=0)\n",
    "        data1 = torch.cat([data1, d[1]], dim=0)\n",
    "data = [data0.to(device), data1.to(device)]"
   ]
  },
  {
   "cell_type": "code",
   "execution_count": null,
   "metadata": {},
   "outputs": [],
   "source": [
    "#testing m_elbo_naive_vade\n",
    "x = data\n",
    "qz_xs, px_zs, zss = model(x)\n",
    "n_centroids = model.params.n_centroids\n",
    "lpx_zs, klds = [], []"
   ]
  },
  {
   "cell_type": "code",
   "execution_count": null,
   "metadata": {},
   "outputs": [],
   "source": [
    "for r, qz_x in enumerate(qz_xs):\n",
    "        zs = zss[r]\n",
    "        kld = vade_kld(model, zs, r)\n",
    "        klds.append(kld)\n",
    "        for d in range(len(px_zs)):\n",
    "            lpx_z = px_zs[d][d].log_prob(x[d])\n",
    "            lpx_z = (lpx_z * model.vaes[d].llik_scaling).sum(-1)\n",
    "            if d == r:\n",
    "                lwt = torch.tensor(0.0)\n",
    "            else:\n",
    "                zs = zss[d].detach()\n",
    "                lwt = (qz_x.log_prob(zs) - qz_xs[d].log_prob(zs).detach()).sum(-1)\n",
    "            lpx_zs.append(lwt.exp() * lpx_z)\n",
    "#obj = (1 / len(model.vaes)) * (torch.stack(lpx_zs).sum(0) - torch.stack(klds).sum(0))\n",
    "obj = (1 / len(model.vaes)) * (torch.stack(lpx_zs).sum(0) - torch.stack(klds).sum(0))"
   ]
  },
  {
   "cell_type": "code",
   "execution_count": null,
   "metadata": {},
   "outputs": [],
   "source": [
    "lpx_zs"
   ]
  },
  {
   "cell_type": "code",
   "execution_count": null,
   "metadata": {},
   "outputs": [],
   "source": [
    "r=1\n",
    "zs = zss[r]\n",
    "kld = vade_kld(model, zs, r)\n",
    "klds.append(kld)"
   ]
  },
  {
   "cell_type": "code",
   "execution_count": null,
   "metadata": {},
   "outputs": [],
   "source": [
    "d=0\n",
    "lpx_z = px_zs[d][d].log_prob(x[d])\n",
    "lpx_z = (lpx_z * model.vaes[d].llik_scaling).sum(-1)\n",
    "if d == r:\n",
    "    lwt = torch.tensor(0.0)\n",
    "else:\n",
    "    zs = zss[d].detach()\n",
    "    lwt = (qz_x.log_prob(zs) - qz_xs[d].log_prob(zs).detach()).sum(-1)\n",
    "lpx_zs.append(lwt.exp() * lpx_z)"
   ]
  },
  {
   "cell_type": "code",
   "execution_count": null,
   "metadata": {},
   "outputs": [],
   "source": [
    "lwt.exp()"
   ]
  },
  {
   "cell_type": "code",
   "execution_count": null,
   "metadata": {
    "scrolled": true
   },
   "outputs": [],
   "source": [
    "qz_x.log_prob(zs)"
   ]
  },
  {
   "cell_type": "code",
   "execution_count": null,
   "metadata": {},
   "outputs": [],
   "source": [
    "qz_xs[d].log_prob(zs)"
   ]
  },
  {
   "cell_type": "code",
   "execution_count": null,
   "metadata": {},
   "outputs": [],
   "source": [
    "_, _, zss = model(data)"
   ]
  },
  {
   "cell_type": "code",
   "execution_count": null,
   "metadata": {},
   "outputs": [],
   "source": [
    "zs = zss[0].squeeze()"
   ]
  },
  {
   "cell_type": "code",
   "execution_count": null,
   "metadata": {},
   "outputs": [],
   "source": [
    "n_centroids = model.params.n_centroids\n",
    "N = zs.size(0)"
   ]
  },
  {
   "cell_type": "code",
   "execution_count": null,
   "metadata": {},
   "outputs": [],
   "source": [
    "N"
   ]
  },
  {
   "cell_type": "code",
   "execution_count": null,
   "metadata": {},
   "outputs": [],
   "source": [
    "#zs = zs.squeeze().unsqueeze(2).expand(zs.size(1), zs.size(2), n_centroids)\n",
    "zs = zs.unsqueeze(2)\n",
    "zs = zs.expand(zs.size(0), zs.size(1), n_centroids) #NxDxK\n",
    "print(zs.shape)\n",
    "print(zs)"
   ]
  },
  {
   "cell_type": "code",
   "execution_count": null,
   "metadata": {},
   "outputs": [],
   "source": [
    "pi = model._pz_params[0].repeat(N,1) #/torch.sum(self._pz_params[0]) # NxK\n",
    "mu_c = model._pz_params[1].repeat(N,1,1) # NxDxK\n",
    "var_c = model._pz_params[2].repeat(N,1,1) # NxDxK"
   ]
  },
  {
   "cell_type": "code",
   "execution_count": null,
   "metadata": {},
   "outputs": [],
   "source": [
    "print(pi.shape)\n",
    "print(mu_c.shape)\n",
    "print(var_c.shape)"
   ]
  },
  {
   "cell_type": "code",
   "execution_count": null,
   "metadata": {},
   "outputs": [],
   "source": [
    "# p(c,z) = p(c)*p(z|c) as p_c_z\n",
    "p_c_z = torch.exp(torch.log(pi) - torch.sum(0.5*torch.log(2*math.pi*var_c) + (zs-mu_c)**2/(2*var_c), dim=1)) + 1e-10\n",
    "gamma = p_c_z / torch.sum(p_c_z, dim=1, keepdim=True)"
   ]
  },
  {
   "cell_type": "code",
   "execution_count": null,
   "metadata": {},
   "outputs": [],
   "source": [
    "p_c_z[0]"
   ]
  },
  {
   "cell_type": "code",
   "execution_count": null,
   "metadata": {},
   "outputs": [],
   "source": [
    "p_c_z = torch.log(pi) - 0.5 * (torch.log(2*math.pi) + torch.log(torch.prod(var_c, dim=1)) + torch.sum((zs-mu_c)**2/(var_c), dim=1))"
   ]
  },
  {
   "cell_type": "code",
   "execution_count": null,
   "metadata": {},
   "outputs": [],
   "source": [
    "D = 20\n",
    "p_c_z = torch.log(pi) - 0.5 * (D*torch.log(torch.tensor(2*math.pi)) + torch.log(torch.prod(var_c, dim=1)) + torch.sum((zs-mu_c)**2/(var_c), dim=1))"
   ]
  },
  {
   "cell_type": "code",
   "execution_count": null,
   "metadata": {},
   "outputs": [],
   "source": [
    "p_c_z "
   ]
  },
  {
   "cell_type": "code",
   "execution_count": null,
   "metadata": {},
   "outputs": [],
   "source": [
    "p_c_z = torch.log(pi) - torch.sum(0.5*torch.log(2*math.pi*var_c) + (zs-mu_c)**2/(2*var_c), dim=1)"
   ]
  },
  {
   "cell_type": "code",
   "execution_count": null,
   "metadata": {},
   "outputs": [],
   "source": [
    "gamma = torch.exp(F.log_softmax(p_c_z, dim=1, dtype=torch.float))"
   ]
  },
  {
   "cell_type": "raw",
   "metadata": {},
   "source": []
  },
  {
   "cell_type": "code",
   "execution_count": null,
   "metadata": {},
   "outputs": [],
   "source": [
    "gamma[10]"
   ]
  },
  {
   "cell_type": "code",
   "execution_count": null,
   "metadata": {},
   "outputs": [],
   "source": [
    "train_rna = csr_matrix(data[0].detach().numpy())\n",
    "train_atac = csr_matrix(data[1].detach().numpy())\n",
    "print(train_rna.shape)\n",
    "print(train_atac.shape)"
   ]
  },
  {
   "cell_type": "code",
   "execution_count": null,
   "metadata": {},
   "outputs": [],
   "source": [
    "save_path = '../data/Paired-seq/combined'\n",
    "mmwrite(save_path + '/train_rna_fetal.mtx', train_rna)\n",
    "mmwrite(save_path + '/train_atac_fetal.mtx', train_atac)"
   ]
  },
  {
   "cell_type": "code",
   "execution_count": null,
   "metadata": {},
   "outputs": [],
   "source": [
    "save_path = '../data/Paired-seq/combined'\n",
    "mmwrite(save_path + '/train_rna_adult.mtx', train_rna)\n",
    "mmwrite(save_path + '/train_atac_adult.mtx', train_atac)"
   ]
  },
  {
   "cell_type": "code",
   "execution_count": null,
   "metadata": {},
   "outputs": [],
   "source": [
    "save_path = '../data/sci-CAR'\n",
    "mmwrite(save_path + '/train_rna.mtx', train_rna)\n",
    "mmwrite(save_path + '/train_atac_maxabsscale.mtx', train_atac)"
   ]
  },
  {
   "cell_type": "code",
   "execution_count": null,
   "metadata": {},
   "outputs": [],
   "source": [
    "r_dataset.genes"
   ]
  },
  {
   "cell_type": "code",
   "execution_count": null,
   "metadata": {},
   "outputs": [],
   "source": [
    "len(r_dataset.genes)"
   ]
  },
  {
   "cell_type": "code",
   "execution_count": null,
   "metadata": {},
   "outputs": [],
   "source": [
    "gene = r_dataset.genes\n",
    "gene = pd.DataFrame(gene)\n",
    "gene.to_csv(save_path+'/filtered_genes.csv')"
   ]
  },
  {
   "cell_type": "code",
   "execution_count": null,
   "metadata": {},
   "outputs": [],
   "source": [
    "save_path = '../data/sci-CAR'\n",
    "peak = a_dataset.peaks\n",
    "peak = pd.DataFrame(peak)\n",
    "peak.to_csv(save_path + '/filtered_peaks_maxabsscale.csv')"
   ]
  },
  {
   "cell_type": "code",
   "execution_count": null,
   "metadata": {},
   "outputs": [],
   "source": [
    "#MMVAE get data for n mini batch\n",
    "n = 1\n",
    "for i, d in enumerate(train_loader):\n",
    "    if i == 0:\n",
    "        data0 = d[0]\n",
    "        data1 = d[1]\n",
    "    elif i < n:\n",
    "        data0 = torch.cat([data0, d[0]], dim=0)\n",
    "        data1 = torch.cat([data1, d[1]], dim=0)\n",
    "data = [data0.to(device), data1.to(device)]"
   ]
  },
  {
   "cell_type": "code",
   "execution_count": null,
   "metadata": {},
   "outputs": [],
   "source": [
    "lats = model.latents(data, sampling=False)"
   ]
  },
  {
   "cell_type": "code",
   "execution_count": null,
   "metadata": {},
   "outputs": [],
   "source": [
    "from sklearn.decomposition import PCA\n",
    "mat = np.zeros(shape=(lats[0].shape[0],2))\n",
    "mean_lats = np.zeros(shape=(lats[0].shape[0],lats[0].shape[1]))\n",
    "for i in range(lats[0].shape[1]):\n",
    "    for j in range(2):\n",
    "        mat[:,j] = lats[j][:,i].cpu().detach().numpy()\n",
    "        pca = PCA(n_components=1)\n",
    "        out = pca.fit_transform(mat)\n",
    "        mean_lats[:,i] = out[:,0]"
   ]
  },
  {
   "cell_type": "code",
   "execution_count": null,
   "metadata": {},
   "outputs": [],
   "source": [
    "lats[0].shape[0]"
   ]
  },
  {
   "cell_type": "code",
   "execution_count": null,
   "metadata": {},
   "outputs": [],
   "source": [
    "mat = np.zeros(shape=(lats[0].shape[0],2))"
   ]
  },
  {
   "cell_type": "code",
   "execution_count": null,
   "metadata": {},
   "outputs": [],
   "source": [
    "mean_lats.shape"
   ]
  },
  {
   "cell_type": "code",
   "execution_count": null,
   "metadata": {},
   "outputs": [],
   "source": [
    "lats = model.latents(data, sampling=False)\n",
    "mean_lats = sum(lats)/len(lats)"
   ]
  },
  {
   "cell_type": "code",
   "execution_count": null,
   "metadata": {},
   "outputs": [],
   "source": [
    "from sklearn.decomposition import PCA\n",
    "pca = PCA(n_components=20)\n",
    "pca_mat = pca.fit_transform(mean_lats)"
   ]
  },
  {
   "cell_type": "code",
   "execution_count": null,
   "metadata": {},
   "outputs": [],
   "source": [
    "from vis import embed_umap\n",
    "lat_emb = embed_umap(pca_mat)"
   ]
  },
  {
   "cell_type": "code",
   "execution_count": null,
   "metadata": {},
   "outputs": [],
   "source": [
    "fig, ax = plt.subplots()\n",
    "scatter = ax.scatter(lat_emb[:, 0], lat_emb[:, 1], s=0.5)\n",
    "plt.show()"
   ]
  },
  {
   "cell_type": "code",
   "execution_count": null,
   "metadata": {},
   "outputs": [],
   "source": [
    "from sklearn.preprocessing import MaxAbsScaler"
   ]
  },
  {
   "cell_type": "code",
   "execution_count": null,
   "metadata": {},
   "outputs": [],
   "source": [
    "scaled = MaxAbsScaler().fit_transform(a_dataset.data)"
   ]
  },
  {
   "cell_type": "code",
   "execution_count": null,
   "metadata": {},
   "outputs": [],
   "source": [
    "m = dist.ContinuousBernoulli(torch.tensor([0.3]))"
   ]
  },
  {
   "cell_type": "code",
   "execution_count": null,
   "metadata": {},
   "outputs": [],
   "source": [
    "from sknetwork.clustering import Louvain"
   ]
  },
  {
   "cell_type": "code",
   "execution_count": null,
   "metadata": {},
   "outputs": [],
   "source": [
    "louvain = Louvain()\n",
    "labels = louvain.fit_transform(adjacency)"
   ]
  },
  {
   "cell_type": "code",
   "execution_count": null,
   "metadata": {},
   "outputs": [],
   "source": []
  },
  {
   "cell_type": "code",
   "execution_count": null,
   "metadata": {},
   "outputs": [],
   "source": [
    "sns.set(style=\"whitegrid\")\n",
    "tips = sns.load_dataset(\"tips\")\n",
    "ax = sns.boxplot(x=tips[\"total_bill\"])"
   ]
  },
  {
   "cell_type": "code",
   "execution_count": null,
   "metadata": {},
   "outputs": [],
   "source": [
    "tips"
   ]
  },
  {
   "cell_type": "code",
   "execution_count": null,
   "metadata": {},
   "outputs": [],
   "source": [
    "#MMVAE get data for n mini batch\n",
    "n = 1\n",
    "for i, d in enumerate(train_loader):\n",
    "    if i == 0:\n",
    "        data0 = d[0]\n",
    "        data1 = d[1]\n",
    "    elif i < n:\n",
    "        data0 = torch.cat([data0, d[0]], dim=0)\n",
    "        data1 = torch.cat([data1, d[1]], dim=0)\n",
    "data = [data0.to(device), data1.to(device)]"
   ]
  },
  {
   "cell_type": "code",
   "execution_count": null,
   "metadata": {},
   "outputs": [],
   "source": [
    "#MMVAE get all data\n",
    "for i, d in enumerate(train_loader):\n",
    "    if i == 0:\n",
    "        data0 = d[0]\n",
    "        data1 = d[1]\n",
    "    else:\n",
    "        data0 = torch.cat([data0, d[0]], dim=0)\n",
    "        data1 = torch.cat([data1, d[1]], dim=0)\n",
    "data = [data0.to(device), data1.to(device)]"
   ]
  },
  {
   "cell_type": "code",
   "execution_count": null,
   "metadata": {},
   "outputs": [],
   "source": [
    "sym_kld = model.symmetric_kld(data,K=1)"
   ]
  },
  {
   "cell_type": "code",
   "execution_count": null,
   "metadata": {},
   "outputs": [],
   "source": [
    "q_p_kld = model.q_p_kld(data,K=1)"
   ]
  },
  {
   "cell_type": "code",
   "execution_count": null,
   "metadata": {},
   "outputs": [],
   "source": [
    "model.plot_klds(sym_kld, runPath + '/q_q_klds.png', yscale='log')"
   ]
  },
  {
   "cell_type": "code",
   "execution_count": null,
   "metadata": {},
   "outputs": [],
   "source": [
    "model.plot_klds(q_p_kld, runPath + '/q_p_klds.png')"
   ]
  },
  {
   "cell_type": "code",
   "execution_count": null,
   "metadata": {},
   "outputs": [],
   "source": []
  },
  {
   "cell_type": "code",
   "execution_count": null,
   "metadata": {},
   "outputs": [],
   "source": [
    "sym_kld"
   ]
  },
  {
   "cell_type": "code",
   "execution_count": null,
   "metadata": {},
   "outputs": [],
   "source": [
    "q_p_kld"
   ]
  },
  {
   "cell_type": "code",
   "execution_count": null,
   "metadata": {},
   "outputs": [],
   "source": [
    "q_p_kld[1]"
   ]
  },
  {
   "cell_type": "code",
   "execution_count": null,
   "metadata": {},
   "outputs": [],
   "source": [
    "model._pz_params[1][:,7]"
   ]
  },
  {
   "cell_type": "code",
   "execution_count": null,
   "metadata": {},
   "outputs": [],
   "source": [
    "#testing m_elbo_naive_vade\n",
    "x = data\n",
    "qz_xs, px_zs, zss = model(x)\n",
    "n_centroids = model.params.n_centroids\n",
    "lpx_zs, klds = [], []"
   ]
  },
  {
   "cell_type": "code",
   "execution_count": null,
   "metadata": {
    "scrolled": false
   },
   "outputs": [],
   "source": [
    "zss[0][0]"
   ]
  },
  {
   "cell_type": "code",
   "execution_count": null,
   "metadata": {},
   "outputs": [],
   "source": [
    "qz_xs[0].mean[0]"
   ]
  },
  {
   "cell_type": "code",
   "execution_count": null,
   "metadata": {},
   "outputs": [],
   "source": [
    "lpcz, pi = model.get_lpcz_bydim(zss[0])\n",
    "#torch.logsumexp(lpc_z, dim=1, keepdim=True)\n",
    "print(lpcz[0].shape)\n",
    "lpcz[0][0,:]"
   ]
  },
  {
   "cell_type": "code",
   "execution_count": null,
   "metadata": {},
   "outputs": [],
   "source": [
    "print(lpcz[0].shape)\n",
    "lpcz[0]"
   ]
  },
  {
   "cell_type": "code",
   "execution_count": null,
   "metadata": {},
   "outputs": [],
   "source": [
    "pi[0]\n",
    "torch.sum(pi[0][0])"
   ]
  },
  {
   "cell_type": "code",
   "execution_count": null,
   "metadata": {},
   "outputs": [],
   "source": [
    "lpcz[0]"
   ]
  },
  {
   "cell_type": "code",
   "execution_count": null,
   "metadata": {},
   "outputs": [],
   "source": [
    "elpcz = torch.exp(lpcz)\n",
    "elpcz[0]"
   ]
  },
  {
   "cell_type": "code",
   "execution_count": null,
   "metadata": {},
   "outputs": [],
   "source": [
    "sumel = torch.sum(elpcz,dim=2)\n",
    "sumel[0]"
   ]
  },
  {
   "cell_type": "code",
   "execution_count": null,
   "metadata": {},
   "outputs": [],
   "source": [
    "lsumel = torch.log(sumel)\n",
    "lsumel[0]"
   ]
  },
  {
   "cell_type": "code",
   "execution_count": null,
   "metadata": {},
   "outputs": [],
   "source": [
    "torch.exp(qz_xs[0].log_prob(zss[0]))"
   ]
  },
  {
   "cell_type": "code",
   "execution_count": null,
   "metadata": {},
   "outputs": [],
   "source": [
    "qz_xs[0].log_prob(zss[0])[0]"
   ]
  },
  {
   "cell_type": "code",
   "execution_count": null,
   "metadata": {},
   "outputs": [],
   "source": [
    "kld = qz_xs[0].log_prob(zss[0]) - torch.logsumexp(lpcz,dim=2)"
   ]
  },
  {
   "cell_type": "code",
   "execution_count": null,
   "metadata": {},
   "outputs": [],
   "source": [
    "kld.shape"
   ]
  },
  {
   "cell_type": "code",
   "execution_count": null,
   "metadata": {},
   "outputs": [],
   "source": [
    "sum(kld[:,19].detach().numpy())/1024"
   ]
  },
  {
   "cell_type": "code",
   "execution_count": null,
   "metadata": {},
   "outputs": [],
   "source": [
    "kld_[0]"
   ]
  },
  {
   "cell_type": "code",
   "execution_count": null,
   "metadata": {},
   "outputs": [],
   "source": [
    "torch.exp(torch.logsumexp(lpcz,dim=2))"
   ]
  },
  {
   "cell_type": "code",
   "execution_count": null,
   "metadata": {},
   "outputs": [],
   "source": [
    "n_centroids = model.params.n_centroids\n",
    "\n",
    "zs = zss[0]\n",
    "\n",
    "N = zs.size(0)\n",
    "D = zs.size(1)\n",
    "zs = zs.unsqueeze(2)\n",
    "zs = zs.expand(zs.size(0), zs.size(1), n_centroids) #NxDxK\n",
    "pi = model._pz_params[0] + Constants.eta\n",
    "pi = pi / torch.sum(pi) #unity\n",
    "pi = pi.repeat(N,D,1) # NxDxK \n",
    "mu_c = model._pz_params[1].repeat(N,1,1) # NxDxK\n",
    "var_c = model._pz_params[2].repeat(N,1,1) + Constants.eta # NxDxK\n"
   ]
  },
  {
   "cell_type": "code",
   "execution_count": null,
   "metadata": {},
   "outputs": [],
   "source": [
    "lpcz = torch.log(pi) - 0.5*torch.log(2*math.pi*var_c) + (zs-mu_c)**2/(2*var_c)"
   ]
  },
  {
   "cell_type": "code",
   "execution_count": null,
   "metadata": {},
   "outputs": [],
   "source": [
    "lpz = torch.logsumexp(lpcz,dim=2)"
   ]
  },
  {
   "cell_type": "code",
   "execution_count": null,
   "metadata": {},
   "outputs": [],
   "source": [
    "lpz[0]"
   ]
  },
  {
   "cell_type": "code",
   "execution_count": null,
   "metadata": {},
   "outputs": [],
   "source": [
    "(0.5*torch.log(2*math.pi*var_c) + (zs-mu_c)**2/(2*var_c))[0]"
   ]
  },
  {
   "cell_type": "code",
   "execution_count": null,
   "metadata": {},
   "outputs": [],
   "source": [
    "mu_c[0][0]"
   ]
  },
  {
   "cell_type": "code",
   "execution_count": null,
   "metadata": {},
   "outputs": [],
   "source": [
    "zs[0][0]"
   ]
  },
  {
   "cell_type": "code",
   "execution_count": null,
   "metadata": {},
   "outputs": [],
   "source": []
  }
 ],
 "metadata": {
  "kernelspec": {
   "display_name": "venv_multimodal2",
   "language": "python",
   "name": "venv_multimodal2"
  },
  "language_info": {
   "codemirror_mode": {
    "name": "ipython",
    "version": 3
   },
   "file_extension": ".py",
   "mimetype": "text/x-python",
   "name": "python",
   "nbconvert_exporter": "python",
   "pygments_lexer": "ipython3",
   "version": "3.7.3"
  }
 },
 "nbformat": 4,
 "nbformat_minor": 2
}
